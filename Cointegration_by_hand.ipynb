{
  "nbformat": 4,
  "nbformat_minor": 0,
  "metadata": {
    "colab": {
      "name": "Cointegration_by_hand.ipynb",
      "provenance": [],
      "collapsed_sections": [
        "VGqh8y1WCBaL"
      ],
      "toc_visible": true,
      "authorship_tag": "ABX9TyNniwjT8U0Aa0gmH80wLBNz",
      "include_colab_link": true
    },
    "kernelspec": {
      "name": "python3",
      "display_name": "Python 3"
    },
    "language_info": {
      "name": "python"
    }
  },
  "cells": [
    {
      "cell_type": "markdown",
      "metadata": {
        "id": "view-in-github",
        "colab_type": "text"
      },
      "source": [
        "<a href=\"https://colab.research.google.com/github/jimtoberfest/Cointegration_Testing/blob/main/Cointegration_by_hand.ipynb\" target=\"_parent\"><img src=\"https://colab.research.google.com/assets/colab-badge.svg\" alt=\"Open In Colab\"/></a>"
      ]
    },
    {
      "cell_type": "code",
      "execution_count": 61,
      "metadata": {
        "id": "m3mQD2uUe9Zj"
      },
      "outputs": [],
      "source": [
        ""
      ]
    },
    {
      "cell_type": "markdown",
      "source": [
        "# installs and Imports"
      ],
      "metadata": {
        "id": "VGqh8y1WCBaL"
      }
    },
    {
      "cell_type": "code",
      "source": [
        "!pip install yfinance -q"
      ],
      "metadata": {
        "id": "uf-ZJNE-e99C"
      },
      "execution_count": 62,
      "outputs": []
    },
    {
      "cell_type": "code",
      "source": [
        "import pandas as pd\n",
        "import numpy as np\n",
        "import yfinance as yf\n",
        "from datetime import datetime, timedelta\n",
        "import matplotlib.pyplot as plt\n",
        "\n",
        "import scipy\n",
        "\n",
        "import statsmodels\n",
        "import statsmodels.api as sm\n",
        "\n",
        "import statsmodels.tsa.stattools as ts\n",
        "from statsmodels.tsa.stattools import adfuller"
      ],
      "metadata": {
        "id": "NS3vT3t1e9_p"
      },
      "execution_count": 63,
      "outputs": []
    },
    {
      "cell_type": "markdown",
      "source": [
        "#DATA"
      ],
      "metadata": {
        "id": "3rwpBmgnCF1L"
      }
    },
    {
      "cell_type": "markdown",
      "source": [
        "##SELECTION"
      ],
      "metadata": {
        "id": "JSxeIaqz5ZgM"
      }
    },
    {
      "cell_type": "code",
      "source": [
        "tick_list = ['AMD', 'INTC']"
      ],
      "metadata": {
        "id": "9Ohb9srze-CT"
      },
      "execution_count": 398,
      "outputs": []
    },
    {
      "cell_type": "code",
      "source": [
        "start = '2019-03-01'\n",
        "end = '2022-02-01'\n",
        "\n",
        "# start = '2019-01-02'\n",
        "# end = '2021-12-31'"
      ],
      "metadata": {
        "id": "CbitBDijfG6Q"
      },
      "execution_count": 399,
      "outputs": []
    },
    {
      "cell_type": "code",
      "source": [
        "data = yf.download(tick_list, start, end)"
      ],
      "metadata": {
        "colab": {
          "base_uri": "https://localhost:8080/"
        },
        "id": "zLZ4Mu7UfHBy",
        "outputId": "f031f37f-3dbc-46f1-b023-4c810de0066e"
      },
      "execution_count": 400,
      "outputs": [
        {
          "output_type": "stream",
          "name": "stdout",
          "text": [
            "[*********************100%***********************]  2 of 2 completed\n"
          ]
        }
      ]
    },
    {
      "cell_type": "markdown",
      "source": [
        "##Data"
      ],
      "metadata": {
        "id": "QXEiomCu5c1E"
      }
    },
    {
      "cell_type": "code",
      "source": [
        "data.head()"
      ],
      "metadata": {
        "colab": {
          "base_uri": "https://localhost:8080/",
          "height": 268
        },
        "id": "6y_9X3KNfHET",
        "outputId": "63ee8dc5-cee7-42df-9b8a-cd52ffccaa0d"
      },
      "execution_count": 401,
      "outputs": [
        {
          "output_type": "execute_result",
          "data": {
            "text/html": [
              "\n",
              "  <div id=\"df-437a5148-aa34-4ccc-a2c2-6f84fdf8b35b\">\n",
              "    <div class=\"colab-df-container\">\n",
              "      <div>\n",
              "<style scoped>\n",
              "    .dataframe tbody tr th:only-of-type {\n",
              "        vertical-align: middle;\n",
              "    }\n",
              "\n",
              "    .dataframe tbody tr th {\n",
              "        vertical-align: top;\n",
              "    }\n",
              "\n",
              "    .dataframe thead tr th {\n",
              "        text-align: left;\n",
              "    }\n",
              "\n",
              "    .dataframe thead tr:last-of-type th {\n",
              "        text-align: right;\n",
              "    }\n",
              "</style>\n",
              "<table border=\"1\" class=\"dataframe\">\n",
              "  <thead>\n",
              "    <tr>\n",
              "      <th></th>\n",
              "      <th colspan=\"2\" halign=\"left\">Adj Close</th>\n",
              "      <th colspan=\"2\" halign=\"left\">Close</th>\n",
              "      <th colspan=\"2\" halign=\"left\">High</th>\n",
              "      <th colspan=\"2\" halign=\"left\">Low</th>\n",
              "      <th colspan=\"2\" halign=\"left\">Open</th>\n",
              "      <th colspan=\"2\" halign=\"left\">Volume</th>\n",
              "    </tr>\n",
              "    <tr>\n",
              "      <th></th>\n",
              "      <th>AMD</th>\n",
              "      <th>INTC</th>\n",
              "      <th>AMD</th>\n",
              "      <th>INTC</th>\n",
              "      <th>AMD</th>\n",
              "      <th>INTC</th>\n",
              "      <th>AMD</th>\n",
              "      <th>INTC</th>\n",
              "      <th>AMD</th>\n",
              "      <th>INTC</th>\n",
              "      <th>AMD</th>\n",
              "      <th>INTC</th>\n",
              "    </tr>\n",
              "    <tr>\n",
              "      <th>Date</th>\n",
              "      <th></th>\n",
              "      <th></th>\n",
              "      <th></th>\n",
              "      <th></th>\n",
              "      <th></th>\n",
              "      <th></th>\n",
              "      <th></th>\n",
              "      <th></th>\n",
              "      <th></th>\n",
              "      <th></th>\n",
              "      <th></th>\n",
              "      <th></th>\n",
              "    </tr>\n",
              "  </thead>\n",
              "  <tbody>\n",
              "    <tr>\n",
              "      <th>2019-03-01</th>\n",
              "      <td>23.680000</td>\n",
              "      <td>49.772011</td>\n",
              "      <td>23.680000</td>\n",
              "      <td>53.299999</td>\n",
              "      <td>24.190001</td>\n",
              "      <td>53.680000</td>\n",
              "      <td>23.450001</td>\n",
              "      <td>52.889999</td>\n",
              "      <td>23.969999</td>\n",
              "      <td>53.439999</td>\n",
              "      <td>48084000</td>\n",
              "      <td>18359300</td>\n",
              "    </tr>\n",
              "    <tr>\n",
              "      <th>2019-03-04</th>\n",
              "      <td>23.370001</td>\n",
              "      <td>50.369652</td>\n",
              "      <td>23.370001</td>\n",
              "      <td>53.939999</td>\n",
              "      <td>24.129999</td>\n",
              "      <td>54.099998</td>\n",
              "      <td>23.010000</td>\n",
              "      <td>53.209999</td>\n",
              "      <td>23.889999</td>\n",
              "      <td>53.750000</td>\n",
              "      <td>48147700</td>\n",
              "      <td>21706100</td>\n",
              "    </tr>\n",
              "    <tr>\n",
              "      <th>2019-03-05</th>\n",
              "      <td>23.500000</td>\n",
              "      <td>50.126862</td>\n",
              "      <td>23.500000</td>\n",
              "      <td>53.680000</td>\n",
              "      <td>23.680000</td>\n",
              "      <td>53.990002</td>\n",
              "      <td>23.010000</td>\n",
              "      <td>53.110001</td>\n",
              "      <td>23.340000</td>\n",
              "      <td>53.849998</td>\n",
              "      <td>35462600</td>\n",
              "      <td>21057700</td>\n",
              "    </tr>\n",
              "    <tr>\n",
              "      <th>2019-03-06</th>\n",
              "      <td>22.410000</td>\n",
              "      <td>49.445183</td>\n",
              "      <td>22.410000</td>\n",
              "      <td>52.950001</td>\n",
              "      <td>23.530001</td>\n",
              "      <td>53.650002</td>\n",
              "      <td>22.400000</td>\n",
              "      <td>52.939999</td>\n",
              "      <td>23.469999</td>\n",
              "      <td>53.630001</td>\n",
              "      <td>60479400</td>\n",
              "      <td>14740500</td>\n",
              "    </tr>\n",
              "    <tr>\n",
              "      <th>2019-03-07</th>\n",
              "      <td>22.080000</td>\n",
              "      <td>49.118347</td>\n",
              "      <td>22.080000</td>\n",
              "      <td>52.599998</td>\n",
              "      <td>22.410000</td>\n",
              "      <td>52.990002</td>\n",
              "      <td>21.730000</td>\n",
              "      <td>52.360001</td>\n",
              "      <td>22.330000</td>\n",
              "      <td>52.770000</td>\n",
              "      <td>52186300</td>\n",
              "      <td>17803000</td>\n",
              "    </tr>\n",
              "  </tbody>\n",
              "</table>\n",
              "</div>\n",
              "      <button class=\"colab-df-convert\" onclick=\"convertToInteractive('df-437a5148-aa34-4ccc-a2c2-6f84fdf8b35b')\"\n",
              "              title=\"Convert this dataframe to an interactive table.\"\n",
              "              style=\"display:none;\">\n",
              "        \n",
              "  <svg xmlns=\"http://www.w3.org/2000/svg\" height=\"24px\"viewBox=\"0 0 24 24\"\n",
              "       width=\"24px\">\n",
              "    <path d=\"M0 0h24v24H0V0z\" fill=\"none\"/>\n",
              "    <path d=\"M18.56 5.44l.94 2.06.94-2.06 2.06-.94-2.06-.94-.94-2.06-.94 2.06-2.06.94zm-11 1L8.5 8.5l.94-2.06 2.06-.94-2.06-.94L8.5 2.5l-.94 2.06-2.06.94zm10 10l.94 2.06.94-2.06 2.06-.94-2.06-.94-.94-2.06-.94 2.06-2.06.94z\"/><path d=\"M17.41 7.96l-1.37-1.37c-.4-.4-.92-.59-1.43-.59-.52 0-1.04.2-1.43.59L10.3 9.45l-7.72 7.72c-.78.78-.78 2.05 0 2.83L4 21.41c.39.39.9.59 1.41.59.51 0 1.02-.2 1.41-.59l7.78-7.78 2.81-2.81c.8-.78.8-2.07 0-2.86zM5.41 20L4 18.59l7.72-7.72 1.47 1.35L5.41 20z\"/>\n",
              "  </svg>\n",
              "      </button>\n",
              "      \n",
              "  <style>\n",
              "    .colab-df-container {\n",
              "      display:flex;\n",
              "      flex-wrap:wrap;\n",
              "      gap: 12px;\n",
              "    }\n",
              "\n",
              "    .colab-df-convert {\n",
              "      background-color: #E8F0FE;\n",
              "      border: none;\n",
              "      border-radius: 50%;\n",
              "      cursor: pointer;\n",
              "      display: none;\n",
              "      fill: #1967D2;\n",
              "      height: 32px;\n",
              "      padding: 0 0 0 0;\n",
              "      width: 32px;\n",
              "    }\n",
              "\n",
              "    .colab-df-convert:hover {\n",
              "      background-color: #E2EBFA;\n",
              "      box-shadow: 0px 1px 2px rgba(60, 64, 67, 0.3), 0px 1px 3px 1px rgba(60, 64, 67, 0.15);\n",
              "      fill: #174EA6;\n",
              "    }\n",
              "\n",
              "    [theme=dark] .colab-df-convert {\n",
              "      background-color: #3B4455;\n",
              "      fill: #D2E3FC;\n",
              "    }\n",
              "\n",
              "    [theme=dark] .colab-df-convert:hover {\n",
              "      background-color: #434B5C;\n",
              "      box-shadow: 0px 1px 3px 1px rgba(0, 0, 0, 0.15);\n",
              "      filter: drop-shadow(0px 1px 2px rgba(0, 0, 0, 0.3));\n",
              "      fill: #FFFFFF;\n",
              "    }\n",
              "  </style>\n",
              "\n",
              "      <script>\n",
              "        const buttonEl =\n",
              "          document.querySelector('#df-437a5148-aa34-4ccc-a2c2-6f84fdf8b35b button.colab-df-convert');\n",
              "        buttonEl.style.display =\n",
              "          google.colab.kernel.accessAllowed ? 'block' : 'none';\n",
              "\n",
              "        async function convertToInteractive(key) {\n",
              "          const element = document.querySelector('#df-437a5148-aa34-4ccc-a2c2-6f84fdf8b35b');\n",
              "          const dataTable =\n",
              "            await google.colab.kernel.invokeFunction('convertToInteractive',\n",
              "                                                     [key], {});\n",
              "          if (!dataTable) return;\n",
              "\n",
              "          const docLinkHtml = 'Like what you see? Visit the ' +\n",
              "            '<a target=\"_blank\" href=https://colab.research.google.com/notebooks/data_table.ipynb>data table notebook</a>'\n",
              "            + ' to learn more about interactive tables.';\n",
              "          element.innerHTML = '';\n",
              "          dataTable['output_type'] = 'display_data';\n",
              "          await google.colab.output.renderOutput(dataTable, element);\n",
              "          const docLink = document.createElement('div');\n",
              "          docLink.innerHTML = docLinkHtml;\n",
              "          element.appendChild(docLink);\n",
              "        }\n",
              "      </script>\n",
              "    </div>\n",
              "  </div>\n",
              "  "
            ],
            "text/plain": [
              "            Adj Close                 Close  ...       Open    Volume          \n",
              "                  AMD       INTC        AMD  ...       INTC       AMD      INTC\n",
              "Date                                         ...                               \n",
              "2019-03-01  23.680000  49.772011  23.680000  ...  53.439999  48084000  18359300\n",
              "2019-03-04  23.370001  50.369652  23.370001  ...  53.750000  48147700  21706100\n",
              "2019-03-05  23.500000  50.126862  23.500000  ...  53.849998  35462600  21057700\n",
              "2019-03-06  22.410000  49.445183  22.410000  ...  53.630001  60479400  14740500\n",
              "2019-03-07  22.080000  49.118347  22.080000  ...  52.770000  52186300  17803000\n",
              "\n",
              "[5 rows x 12 columns]"
            ]
          },
          "metadata": {},
          "execution_count": 401
        }
      ]
    },
    {
      "cell_type": "code",
      "source": [
        "df = data['Adj Close'].copy()"
      ],
      "metadata": {
        "id": "DRn789Hsfbn_"
      },
      "execution_count": 402,
      "outputs": []
    },
    {
      "cell_type": "code",
      "source": [
        "df.head(2)"
      ],
      "metadata": {
        "colab": {
          "base_uri": "https://localhost:8080/",
          "height": 144
        },
        "id": "n7HOtbcKfiOR",
        "outputId": "07559ed1-2bd2-4994-90f6-1102ea6cab2b"
      },
      "execution_count": 403,
      "outputs": [
        {
          "output_type": "execute_result",
          "data": {
            "text/html": [
              "\n",
              "  <div id=\"df-b5fe17b7-b226-4ec8-aa86-2e7c6587239b\">\n",
              "    <div class=\"colab-df-container\">\n",
              "      <div>\n",
              "<style scoped>\n",
              "    .dataframe tbody tr th:only-of-type {\n",
              "        vertical-align: middle;\n",
              "    }\n",
              "\n",
              "    .dataframe tbody tr th {\n",
              "        vertical-align: top;\n",
              "    }\n",
              "\n",
              "    .dataframe thead th {\n",
              "        text-align: right;\n",
              "    }\n",
              "</style>\n",
              "<table border=\"1\" class=\"dataframe\">\n",
              "  <thead>\n",
              "    <tr style=\"text-align: right;\">\n",
              "      <th></th>\n",
              "      <th>AMD</th>\n",
              "      <th>INTC</th>\n",
              "    </tr>\n",
              "    <tr>\n",
              "      <th>Date</th>\n",
              "      <th></th>\n",
              "      <th></th>\n",
              "    </tr>\n",
              "  </thead>\n",
              "  <tbody>\n",
              "    <tr>\n",
              "      <th>2019-03-01</th>\n",
              "      <td>23.680000</td>\n",
              "      <td>49.772011</td>\n",
              "    </tr>\n",
              "    <tr>\n",
              "      <th>2019-03-04</th>\n",
              "      <td>23.370001</td>\n",
              "      <td>50.369652</td>\n",
              "    </tr>\n",
              "  </tbody>\n",
              "</table>\n",
              "</div>\n",
              "      <button class=\"colab-df-convert\" onclick=\"convertToInteractive('df-b5fe17b7-b226-4ec8-aa86-2e7c6587239b')\"\n",
              "              title=\"Convert this dataframe to an interactive table.\"\n",
              "              style=\"display:none;\">\n",
              "        \n",
              "  <svg xmlns=\"http://www.w3.org/2000/svg\" height=\"24px\"viewBox=\"0 0 24 24\"\n",
              "       width=\"24px\">\n",
              "    <path d=\"M0 0h24v24H0V0z\" fill=\"none\"/>\n",
              "    <path d=\"M18.56 5.44l.94 2.06.94-2.06 2.06-.94-2.06-.94-.94-2.06-.94 2.06-2.06.94zm-11 1L8.5 8.5l.94-2.06 2.06-.94-2.06-.94L8.5 2.5l-.94 2.06-2.06.94zm10 10l.94 2.06.94-2.06 2.06-.94-2.06-.94-.94-2.06-.94 2.06-2.06.94z\"/><path d=\"M17.41 7.96l-1.37-1.37c-.4-.4-.92-.59-1.43-.59-.52 0-1.04.2-1.43.59L10.3 9.45l-7.72 7.72c-.78.78-.78 2.05 0 2.83L4 21.41c.39.39.9.59 1.41.59.51 0 1.02-.2 1.41-.59l7.78-7.78 2.81-2.81c.8-.78.8-2.07 0-2.86zM5.41 20L4 18.59l7.72-7.72 1.47 1.35L5.41 20z\"/>\n",
              "  </svg>\n",
              "      </button>\n",
              "      \n",
              "  <style>\n",
              "    .colab-df-container {\n",
              "      display:flex;\n",
              "      flex-wrap:wrap;\n",
              "      gap: 12px;\n",
              "    }\n",
              "\n",
              "    .colab-df-convert {\n",
              "      background-color: #E8F0FE;\n",
              "      border: none;\n",
              "      border-radius: 50%;\n",
              "      cursor: pointer;\n",
              "      display: none;\n",
              "      fill: #1967D2;\n",
              "      height: 32px;\n",
              "      padding: 0 0 0 0;\n",
              "      width: 32px;\n",
              "    }\n",
              "\n",
              "    .colab-df-convert:hover {\n",
              "      background-color: #E2EBFA;\n",
              "      box-shadow: 0px 1px 2px rgba(60, 64, 67, 0.3), 0px 1px 3px 1px rgba(60, 64, 67, 0.15);\n",
              "      fill: #174EA6;\n",
              "    }\n",
              "\n",
              "    [theme=dark] .colab-df-convert {\n",
              "      background-color: #3B4455;\n",
              "      fill: #D2E3FC;\n",
              "    }\n",
              "\n",
              "    [theme=dark] .colab-df-convert:hover {\n",
              "      background-color: #434B5C;\n",
              "      box-shadow: 0px 1px 3px 1px rgba(0, 0, 0, 0.15);\n",
              "      filter: drop-shadow(0px 1px 2px rgba(0, 0, 0, 0.3));\n",
              "      fill: #FFFFFF;\n",
              "    }\n",
              "  </style>\n",
              "\n",
              "      <script>\n",
              "        const buttonEl =\n",
              "          document.querySelector('#df-b5fe17b7-b226-4ec8-aa86-2e7c6587239b button.colab-df-convert');\n",
              "        buttonEl.style.display =\n",
              "          google.colab.kernel.accessAllowed ? 'block' : 'none';\n",
              "\n",
              "        async function convertToInteractive(key) {\n",
              "          const element = document.querySelector('#df-b5fe17b7-b226-4ec8-aa86-2e7c6587239b');\n",
              "          const dataTable =\n",
              "            await google.colab.kernel.invokeFunction('convertToInteractive',\n",
              "                                                     [key], {});\n",
              "          if (!dataTable) return;\n",
              "\n",
              "          const docLinkHtml = 'Like what you see? Visit the ' +\n",
              "            '<a target=\"_blank\" href=https://colab.research.google.com/notebooks/data_table.ipynb>data table notebook</a>'\n",
              "            + ' to learn more about interactive tables.';\n",
              "          element.innerHTML = '';\n",
              "          dataTable['output_type'] = 'display_data';\n",
              "          await google.colab.output.renderOutput(dataTable, element);\n",
              "          const docLink = document.createElement('div');\n",
              "          docLink.innerHTML = docLinkHtml;\n",
              "          element.appendChild(docLink);\n",
              "        }\n",
              "      </script>\n",
              "    </div>\n",
              "  </div>\n",
              "  "
            ],
            "text/plain": [
              "                  AMD       INTC\n",
              "Date                            \n",
              "2019-03-01  23.680000  49.772011\n",
              "2019-03-04  23.370001  50.369652"
            ]
          },
          "metadata": {},
          "execution_count": 403
        }
      ]
    },
    {
      "cell_type": "code",
      "source": [
        "window = int(len(df) / 2)\n",
        "window"
      ],
      "metadata": {
        "colab": {
          "base_uri": "https://localhost:8080/"
        },
        "id": "nMWvVW-cfuTI",
        "outputId": "05e067c6-ff34-4940-bd40-b61540f6b7e5"
      },
      "execution_count": 404,
      "outputs": [
        {
          "output_type": "execute_result",
          "data": {
            "text/plain": [
              "368"
            ]
          },
          "metadata": {},
          "execution_count": 404
        }
      ]
    },
    {
      "cell_type": "code",
      "source": [
        "plt.scatter(df['AMD'], df['INTC'])"
      ],
      "metadata": {
        "colab": {
          "base_uri": "https://localhost:8080/",
          "height": 282
        },
        "id": "O9RfQ7yl4zvi",
        "outputId": "8bfc5652-9251-4b29-8e3d-cb0a9aa91a01"
      },
      "execution_count": 405,
      "outputs": [
        {
          "output_type": "execute_result",
          "data": {
            "text/plain": [
              "<matplotlib.collections.PathCollection at 0x7fc4b69ee050>"
            ]
          },
          "metadata": {},
          "execution_count": 405
        },
        {
          "output_type": "display_data",
          "data": {
            "image/png": "[encoded data removed]",
            "text/plain": [
              "<Figure size 432x288 with 1 Axes>"
            ]
          },
          "metadata": {
            "needs_background": "light"
          }
        }
      ]
    },
    {
      "cell_type": "code",
      "source": [
        "model = sm.OLS(df['AMD'], df['INTC'])\n",
        "results = model.fit()\n",
        "print(results.params[0])\n",
        "ratio = (round(results.params[0], 0))\n",
        "print(ratio)"
      ],
      "metadata": {
        "colab": {
          "base_uri": "https://localhost:8080/"
        },
        "id": "hs0b4nxif1ow",
        "outputId": "a95d2882-2a03-431f-9f7c-c7d83402dcb8"
      },
      "execution_count": 406,
      "outputs": [
        {
          "output_type": "stream",
          "name": "stdout",
          "text": [
            "1.3211705111711267\n",
            "1.0\n"
          ]
        }
      ]
    },
    {
      "cell_type": "code",
      "source": [
        "df['AMD'].head()"
      ],
      "metadata": {
        "colab": {
          "base_uri": "https://localhost:8080/"
        },
        "id": "em3zFWqi3PGj",
        "outputId": "2bc871ca-73e2-4539-b3b1-8c0b3e24595f"
      },
      "execution_count": 407,
      "outputs": [
        {
          "output_type": "execute_result",
          "data": {
            "text/plain": [
              "Date\n",
              "2019-03-01    23.680000\n",
              "2019-03-04    23.370001\n",
              "2019-03-05    23.500000\n",
              "2019-03-06    22.410000\n",
              "2019-03-07    22.080000\n",
              "Name: AMD, dtype: float64"
            ]
          },
          "metadata": {},
          "execution_count": 407
        }
      ]
    },
    {
      "cell_type": "code",
      "source": [
        "df['spread'] = df['AMD'] - (round(results.params[0], 1) * df['INTC'])\n",
        "\n",
        "df.head(3)"
      ],
      "metadata": {
        "colab": {
          "base_uri": "https://localhost:8080/",
          "height": 174
        },
        "id": "lAGe82tfgIN_",
        "outputId": "566f8137-6424-4cd2-ee46-828b874c7b22"
      },
      "execution_count": 408,
      "outputs": [
        {
          "output_type": "execute_result",
          "data": {
            "text/html": [
              "\n",
              "  <div id=\"df-ea4b1a36-d1f1-40e8-bab4-445828533c2e\">\n",
              "    <div class=\"colab-df-container\">\n",
              "      <div>\n",
              "<style scoped>\n",
              "    .dataframe tbody tr th:only-of-type {\n",
              "        vertical-align: middle;\n",
              "    }\n",
              "\n",
              "    .dataframe tbody tr th {\n",
              "        vertical-align: top;\n",
              "    }\n",
              "\n",
              "    .dataframe thead th {\n",
              "        text-align: right;\n",
              "    }\n",
              "</style>\n",
              "<table border=\"1\" class=\"dataframe\">\n",
              "  <thead>\n",
              "    <tr style=\"text-align: right;\">\n",
              "      <th></th>\n",
              "      <th>AMD</th>\n",
              "      <th>INTC</th>\n",
              "      <th>spread</th>\n",
              "    </tr>\n",
              "    <tr>\n",
              "      <th>Date</th>\n",
              "      <th></th>\n",
              "      <th></th>\n",
              "      <th></th>\n",
              "    </tr>\n",
              "  </thead>\n",
              "  <tbody>\n",
              "    <tr>\n",
              "      <th>2019-03-01</th>\n",
              "      <td>23.680000</td>\n",
              "      <td>49.772011</td>\n",
              "      <td>-41.023614</td>\n",
              "    </tr>\n",
              "    <tr>\n",
              "      <th>2019-03-04</th>\n",
              "      <td>23.370001</td>\n",
              "      <td>50.369652</td>\n",
              "      <td>-42.110546</td>\n",
              "    </tr>\n",
              "    <tr>\n",
              "      <th>2019-03-05</th>\n",
              "      <td>23.500000</td>\n",
              "      <td>50.126862</td>\n",
              "      <td>-41.664920</td>\n",
              "    </tr>\n",
              "  </tbody>\n",
              "</table>\n",
              "</div>\n",
              "      <button class=\"colab-df-convert\" onclick=\"convertToInteractive('df-ea4b1a36-d1f1-40e8-bab4-445828533c2e')\"\n",
              "              title=\"Convert this dataframe to an interactive table.\"\n",
              "              style=\"display:none;\">\n",
              "        \n",
              "  <svg xmlns=\"http://www.w3.org/2000/svg\" height=\"24px\"viewBox=\"0 0 24 24\"\n",
              "       width=\"24px\">\n",
              "    <path d=\"M0 0h24v24H0V0z\" fill=\"none\"/>\n",
              "    <path d=\"M18.56 5.44l.94 2.06.94-2.06 2.06-.94-2.06-.94-.94-2.06-.94 2.06-2.06.94zm-11 1L8.5 8.5l.94-2.06 2.06-.94-2.06-.94L8.5 2.5l-.94 2.06-2.06.94zm10 10l.94 2.06.94-2.06 2.06-.94-2.06-.94-.94-2.06-.94 2.06-2.06.94z\"/><path d=\"M17.41 7.96l-1.37-1.37c-.4-.4-.92-.59-1.43-.59-.52 0-1.04.2-1.43.59L10.3 9.45l-7.72 7.72c-.78.78-.78 2.05 0 2.83L4 21.41c.39.39.9.59 1.41.59.51 0 1.02-.2 1.41-.59l7.78-7.78 2.81-2.81c.8-.78.8-2.07 0-2.86zM5.41 20L4 18.59l7.72-7.72 1.47 1.35L5.41 20z\"/>\n",
              "  </svg>\n",
              "      </button>\n",
              "      \n",
              "  <style>\n",
              "    .colab-df-container {\n",
              "      display:flex;\n",
              "      flex-wrap:wrap;\n",
              "      gap: 12px;\n",
              "    }\n",
              "\n",
              "    .colab-df-convert {\n",
              "      background-color: #E8F0FE;\n",
              "      border: none;\n",
              "      border-radius: 50%;\n",
              "      cursor: pointer;\n",
              "      display: none;\n",
              "      fill: #1967D2;\n",
              "      height: 32px;\n",
              "      padding: 0 0 0 0;\n",
              "      width: 32px;\n",
              "    }\n",
              "\n",
              "    .colab-df-convert:hover {\n",
              "      background-color: #E2EBFA;\n",
              "      box-shadow: 0px 1px 2px rgba(60, 64, 67, 0.3), 0px 1px 3px 1px rgba(60, 64, 67, 0.15);\n",
              "      fill: #174EA6;\n",
              "    }\n",
              "\n",
              "    [theme=dark] .colab-df-convert {\n",
              "      background-color: #3B4455;\n",
              "      fill: #D2E3FC;\n",
              "    }\n",
              "\n",
              "    [theme=dark] .colab-df-convert:hover {\n",
              "      background-color: #434B5C;\n",
              "      box-shadow: 0px 1px 3px 1px rgba(0, 0, 0, 0.15);\n",
              "      filter: drop-shadow(0px 1px 2px rgba(0, 0, 0, 0.3));\n",
              "      fill: #FFFFFF;\n",
              "    }\n",
              "  </style>\n",
              "\n",
              "      <script>\n",
              "        const buttonEl =\n",
              "          document.querySelector('#df-ea4b1a36-d1f1-40e8-bab4-445828533c2e button.colab-df-convert');\n",
              "        buttonEl.style.display =\n",
              "          google.colab.kernel.accessAllowed ? 'block' : 'none';\n",
              "\n",
              "        async function convertToInteractive(key) {\n",
              "          const element = document.querySelector('#df-ea4b1a36-d1f1-40e8-bab4-445828533c2e');\n",
              "          const dataTable =\n",
              "            await google.colab.kernel.invokeFunction('convertToInteractive',\n",
              "                                                     [key], {});\n",
              "          if (!dataTable) return;\n",
              "\n",
              "          const docLinkHtml = 'Like what you see? Visit the ' +\n",
              "            '<a target=\"_blank\" href=https://colab.research.google.com/notebooks/data_table.ipynb>data table notebook</a>'\n",
              "            + ' to learn more about interactive tables.';\n",
              "          element.innerHTML = '';\n",
              "          dataTable['output_type'] = 'display_data';\n",
              "          await google.colab.output.renderOutput(dataTable, element);\n",
              "          const docLink = document.createElement('div');\n",
              "          docLink.innerHTML = docLinkHtml;\n",
              "          element.appendChild(docLink);\n",
              "        }\n",
              "      </script>\n",
              "    </div>\n",
              "  </div>\n",
              "  "
            ],
            "text/plain": [
              "                  AMD       INTC     spread\n",
              "Date                                       \n",
              "2019-03-01  23.680000  49.772011 -41.023614\n",
              "2019-03-04  23.370001  50.369652 -42.110546\n",
              "2019-03-05  23.500000  50.126862 -41.664920"
            ]
          },
          "metadata": {},
          "execution_count": 408
        }
      ]
    },
    {
      "cell_type": "code",
      "source": [
        "plt.scatter(df['spread'], df['INTC'])"
      ],
      "metadata": {
        "colab": {
          "base_uri": "https://localhost:8080/",
          "height": 282
        },
        "id": "RIqCc3UjgRip",
        "outputId": "29fd2406-1539-4d34-b35c-4bbe0593bd21"
      },
      "execution_count": 409,
      "outputs": [
        {
          "output_type": "execute_result",
          "data": {
            "text/plain": [
              "<matplotlib.collections.PathCollection at 0x7fc4b696eb10>"
            ]
          },
          "metadata": {},
          "execution_count": 409
        },
        {
          "output_type": "display_data",
          "data": {
            "image/png": "[encoded data removed]",
            "text/plain": [
              "<Figure size 432x288 with 1 Axes>"
            ]
          },
          "metadata": {
            "needs_background": "light"
          }
        }
      ]
    },
    {
      "cell_type": "code",
      "source": [
        "print('spread mean:', df['spread'].mean())\n",
        "\n",
        "df['spread'].plot()\n",
        "plt.axhline(df['spread'].mean(), color='k')"
      ],
      "metadata": {
        "colab": {
          "base_uri": "https://localhost:8080/",
          "height": 311
        },
        "id": "69ByHt3ohC4f",
        "outputId": "48f2ec29-9ed2-411f-c69d-1d260f6c239d"
      },
      "execution_count": 410,
      "outputs": [
        {
          "output_type": "stream",
          "name": "stdout",
          "text": [
            "spread mean: 1.3432188516077799\n"
          ]
        },
        {
          "output_type": "execute_result",
          "data": {
            "text/plain": [
              "<matplotlib.lines.Line2D at 0x7fc4b68eb710>"
            ]
          },
          "metadata": {},
          "execution_count": 410
        },
        {
          "output_type": "display_data",
          "data": {
            "image/png": "[encoded data removed]",
            "text/plain": [
              "<Figure size 432x288 with 1 Axes>"
            ]
          },
          "metadata": {
            "needs_background": "light"
          }
        }
      ]
    },
    {
      "cell_type": "code",
      "source": [
        "adf = adfuller(df.spread, maxlag=1)\n",
        "print(\"p-value:\",round(adf[1],4))\n",
        "adf"
      ],
      "metadata": {
        "colab": {
          "base_uri": "https://localhost:8080/"
        },
        "id": "yFAAcJP_hIRw",
        "outputId": "648fcf5a-9da1-40f1-f3f2-88215c6964b6"
      },
      "execution_count": 411,
      "outputs": [
        {
          "output_type": "stream",
          "name": "stdout",
          "text": [
            "p-value: 0.7576\n"
          ]
        },
        {
          "output_type": "execute_result",
          "data": {
            "text/plain": [
              "(-0.9880542733902757,\n",
              " 0.7575962575026436,\n",
              " 0,\n",
              " 735,\n",
              " {'1%': -3.4392782790913206,\n",
              "  '10%': -2.568868260909806,\n",
              "  '5%': -2.865480319267325},\n",
              " 3388.3057008817864)"
            ]
          },
          "metadata": {},
          "execution_count": 411
        }
      ]
    },
    {
      "cell_type": "code",
      "source": [
        "c_1 = ts.coint(df['AMD'], df['INTC'])\n",
        "c_1"
      ],
      "metadata": {
        "colab": {
          "base_uri": "https://localhost:8080/"
        },
        "id": "OU_DKQTkiEZ_",
        "outputId": "9d24dc25-464d-4f5d-95e4-bae3c9aa2756"
      },
      "execution_count": 412,
      "outputs": [
        {
          "output_type": "execute_result",
          "data": {
            "text/plain": [
              "(-1.2447247234847576,\n",
              " 0.8457971965281603,\n",
              " array([-3.91140261, -3.34445569, -3.05022538]))"
            ]
          },
          "metadata": {},
          "execution_count": 412
        }
      ]
    },
    {
      "cell_type": "code",
      "source": [
        ""
      ],
      "metadata": {
        "id": "-qqgiYCElpXv"
      },
      "execution_count": 412,
      "outputs": []
    },
    {
      "cell_type": "markdown",
      "source": [
        "##Coint and/or Stationary"
      ],
      "metadata": {
        "id": "soT6aRTp4f6Z"
      }
    },
    {
      "cell_type": "code",
      "source": [
        "print(\"ADF p-value:\",round(adf[1],4), '\\n')\n",
        "\n",
        "print('Coint p-value:', round(c_1[1], 3),'\\n')\n",
        "\n",
        "'spread is NOT cointegrated:' if c_1[1] > .05 else 'spread IS COINTEGRATED'\n"
      ],
      "metadata": {
        "colab": {
          "base_uri": "https://localhost:8080/",
          "height": 104
        },
        "id": "7YIf0w014kTT",
        "outputId": "5f0c87a4-92a8-485a-d972-c7a4e6ede00f"
      },
      "execution_count": 413,
      "outputs": [
        {
          "output_type": "stream",
          "name": "stdout",
          "text": [
            "ADF p-value: 0.7576 \n",
            "\n",
            "Coint p-value: 0.846 \n",
            "\n"
          ]
        },
        {
          "output_type": "execute_result",
          "data": {
            "application/vnd.google.colaboratory.intrinsic+json": {
              "type": "string"
            },
            "text/plain": [
              "'spread is NOT cointegrated:'"
            ]
          },
          "metadata": {},
          "execution_count": 413
        }
      ]
    },
    {
      "cell_type": "code",
      "source": [
        ""
      ],
      "metadata": {
        "id": "YaDulT6e4qZI"
      },
      "execution_count": 413,
      "outputs": []
    },
    {
      "cell_type": "markdown",
      "source": [
        "## Trading Calcs"
      ],
      "metadata": {
        "id": "rPUsjKNB6MGK"
      }
    },
    {
      "cell_type": "markdown",
      "source": [
        "### Features"
      ],
      "metadata": {
        "id": "xdJRaOXi6T45"
      }
    },
    {
      "cell_type": "code",
      "source": [
        "window = 30   #SELECT ROLLING WINDOW\n",
        "\n",
        "\n",
        "df['ratio'] = ratio\n",
        "df['mean_'+ str(window)] = df['spread'].rolling(window=window).mean()\n",
        "df['std_'+ str(window)] = df['spread'].rolling(window=window).std()\n",
        "df['z_score_'+ str(window)] = (df['spread'] - df['mean_'+ str(window)]) / df['std_'+ str(window)]"
      ],
      "metadata": {
        "id": "Ob4_S3om6PUY"
      },
      "execution_count": 414,
      "outputs": []
    },
    {
      "cell_type": "code",
      "source": [
        ""
      ],
      "metadata": {
        "id": "UBX7mYzF6j3B"
      },
      "execution_count": 414,
      "outputs": []
    },
    {
      "cell_type": "markdown",
      "source": [
        "### Current Value"
      ],
      "metadata": {
        "id": "IpUfwuu5yz4m"
      }
    },
    {
      "cell_type": "code",
      "source": [
        "df.tail(5)"
      ],
      "metadata": {
        "colab": {
          "base_uri": "https://localhost:8080/",
          "height": 237
        },
        "id": "kaDcY7VZ6RnI",
        "outputId": "65d297bf-9abb-4513-a797-ee03b2727128"
      },
      "execution_count": 415,
      "outputs": [
        {
          "output_type": "execute_result",
          "data": {
            "text/html": [
              "\n",
              "  <div id=\"df-286b35c7-61dd-41f4-9d68-2f7db62f0ad0\">\n",
              "    <div class=\"colab-df-container\">\n",
              "      <div>\n",
              "<style scoped>\n",
              "    .dataframe tbody tr th:only-of-type {\n",
              "        vertical-align: middle;\n",
              "    }\n",
              "\n",
              "    .dataframe tbody tr th {\n",
              "        vertical-align: top;\n",
              "    }\n",
              "\n",
              "    .dataframe thead th {\n",
              "        text-align: right;\n",
              "    }\n",
              "</style>\n",
              "<table border=\"1\" class=\"dataframe\">\n",
              "  <thead>\n",
              "    <tr style=\"text-align: right;\">\n",
              "      <th></th>\n",
              "      <th>AMD</th>\n",
              "      <th>INTC</th>\n",
              "      <th>spread</th>\n",
              "      <th>ratio</th>\n",
              "      <th>mean_30</th>\n",
              "      <th>std_30</th>\n",
              "      <th>z_score_30</th>\n",
              "    </tr>\n",
              "    <tr>\n",
              "      <th>Date</th>\n",
              "      <th></th>\n",
              "      <th></th>\n",
              "      <th></th>\n",
              "      <th></th>\n",
              "      <th></th>\n",
              "      <th></th>\n",
              "      <th></th>\n",
              "    </tr>\n",
              "  </thead>\n",
              "  <tbody>\n",
              "    <tr>\n",
              "      <th>2022-01-24</th>\n",
              "      <td>116.529999</td>\n",
              "      <td>51.939999</td>\n",
              "      <td>49.008001</td>\n",
              "      <td>1.0</td>\n",
              "      <td>69.772667</td>\n",
              "      <td>9.942022</td>\n",
              "      <td>-2.088576</td>\n",
              "    </tr>\n",
              "    <tr>\n",
              "      <th>2022-01-25</th>\n",
              "      <td>111.129997</td>\n",
              "      <td>51.000000</td>\n",
              "      <td>44.829997</td>\n",
              "      <td>1.0</td>\n",
              "      <td>68.840900</td>\n",
              "      <td>10.912661</td>\n",
              "      <td>-2.200279</td>\n",
              "    </tr>\n",
              "    <tr>\n",
              "      <th>2022-01-26</th>\n",
              "      <td>110.709999</td>\n",
              "      <td>51.689999</td>\n",
              "      <td>43.513001</td>\n",
              "      <td>1.0</td>\n",
              "      <td>67.998000</td>\n",
              "      <td>11.852085</td>\n",
              "      <td>-2.065881</td>\n",
              "    </tr>\n",
              "    <tr>\n",
              "      <th>2022-01-27</th>\n",
              "      <td>102.599998</td>\n",
              "      <td>48.049999</td>\n",
              "      <td>40.134999</td>\n",
              "      <td>1.0</td>\n",
              "      <td>66.969500</td>\n",
              "      <td>12.877869</td>\n",
              "      <td>-2.083769</td>\n",
              "    </tr>\n",
              "    <tr>\n",
              "      <th>2022-01-28</th>\n",
              "      <td>105.239998</td>\n",
              "      <td>47.730000</td>\n",
              "      <td>43.190998</td>\n",
              "      <td>1.0</td>\n",
              "      <td>65.721566</td>\n",
              "      <td>13.315095</td>\n",
              "      <td>-1.692107</td>\n",
              "    </tr>\n",
              "  </tbody>\n",
              "</table>\n",
              "</div>\n",
              "      <button class=\"colab-df-convert\" onclick=\"convertToInteractive('df-286b35c7-61dd-41f4-9d68-2f7db62f0ad0')\"\n",
              "              title=\"Convert this dataframe to an interactive table.\"\n",
              "              style=\"display:none;\">\n",
              "        \n",
              "  <svg xmlns=\"http://www.w3.org/2000/svg\" height=\"24px\"viewBox=\"0 0 24 24\"\n",
              "       width=\"24px\">\n",
              "    <path d=\"M0 0h24v24H0V0z\" fill=\"none\"/>\n",
              "    <path d=\"M18.56 5.44l.94 2.06.94-2.06 2.06-.94-2.06-.94-.94-2.06-.94 2.06-2.06.94zm-11 1L8.5 8.5l.94-2.06 2.06-.94-2.06-.94L8.5 2.5l-.94 2.06-2.06.94zm10 10l.94 2.06.94-2.06 2.06-.94-2.06-.94-.94-2.06-.94 2.06-2.06.94z\"/><path d=\"M17.41 7.96l-1.37-1.37c-.4-.4-.92-.59-1.43-.59-.52 0-1.04.2-1.43.59L10.3 9.45l-7.72 7.72c-.78.78-.78 2.05 0 2.83L4 21.41c.39.39.9.59 1.41.59.51 0 1.02-.2 1.41-.59l7.78-7.78 2.81-2.81c.8-.78.8-2.07 0-2.86zM5.41 20L4 18.59l7.72-7.72 1.47 1.35L5.41 20z\"/>\n",
              "  </svg>\n",
              "      </button>\n",
              "      \n",
              "  <style>\n",
              "    .colab-df-container {\n",
              "      display:flex;\n",
              "      flex-wrap:wrap;\n",
              "      gap: 12px;\n",
              "    }\n",
              "\n",
              "    .colab-df-convert {\n",
              "      background-color: #E8F0FE;\n",
              "      border: none;\n",
              "      border-radius: 50%;\n",
              "      cursor: pointer;\n",
              "      display: none;\n",
              "      fill: #1967D2;\n",
              "      height: 32px;\n",
              "      padding: 0 0 0 0;\n",
              "      width: 32px;\n",
              "    }\n",
              "\n",
              "    .colab-df-convert:hover {\n",
              "      background-color: #E2EBFA;\n",
              "      box-shadow: 0px 1px 2px rgba(60, 64, 67, 0.3), 0px 1px 3px 1px rgba(60, 64, 67, 0.15);\n",
              "      fill: #174EA6;\n",
              "    }\n",
              "\n",
              "    [theme=dark] .colab-df-convert {\n",
              "      background-color: #3B4455;\n",
              "      fill: #D2E3FC;\n",
              "    }\n",
              "\n",
              "    [theme=dark] .colab-df-convert:hover {\n",
              "      background-color: #434B5C;\n",
              "      box-shadow: 0px 1px 3px 1px rgba(0, 0, 0, 0.15);\n",
              "      filter: drop-shadow(0px 1px 2px rgba(0, 0, 0, 0.3));\n",
              "      fill: #FFFFFF;\n",
              "    }\n",
              "  </style>\n",
              "\n",
              "      <script>\n",
              "        const buttonEl =\n",
              "          document.querySelector('#df-286b35c7-61dd-41f4-9d68-2f7db62f0ad0 button.colab-df-convert');\n",
              "        buttonEl.style.display =\n",
              "          google.colab.kernel.accessAllowed ? 'block' : 'none';\n",
              "\n",
              "        async function convertToInteractive(key) {\n",
              "          const element = document.querySelector('#df-286b35c7-61dd-41f4-9d68-2f7db62f0ad0');\n",
              "          const dataTable =\n",
              "            await google.colab.kernel.invokeFunction('convertToInteractive',\n",
              "                                                     [key], {});\n",
              "          if (!dataTable) return;\n",
              "\n",
              "          const docLinkHtml = 'Like what you see? Visit the ' +\n",
              "            '<a target=\"_blank\" href=https://colab.research.google.com/notebooks/data_table.ipynb>data table notebook</a>'\n",
              "            + ' to learn more about interactive tables.';\n",
              "          element.innerHTML = '';\n",
              "          dataTable['output_type'] = 'display_data';\n",
              "          await google.colab.output.renderOutput(dataTable, element);\n",
              "          const docLink = document.createElement('div');\n",
              "          docLink.innerHTML = docLinkHtml;\n",
              "          element.appendChild(docLink);\n",
              "        }\n",
              "      </script>\n",
              "    </div>\n",
              "  </div>\n",
              "  "
            ],
            "text/plain": [
              "                   AMD       INTC     spread  ...    mean_30     std_30  z_score_30\n",
              "Date                                          ...                                  \n",
              "2022-01-24  116.529999  51.939999  49.008001  ...  69.772667   9.942022   -2.088576\n",
              "2022-01-25  111.129997  51.000000  44.829997  ...  68.840900  10.912661   -2.200279\n",
              "2022-01-26  110.709999  51.689999  43.513001  ...  67.998000  11.852085   -2.065881\n",
              "2022-01-27  102.599998  48.049999  40.134999  ...  66.969500  12.877869   -2.083769\n",
              "2022-01-28  105.239998  47.730000  43.190998  ...  65.721566  13.315095   -1.692107\n",
              "\n",
              "[5 rows x 7 columns]"
            ]
          },
          "metadata": {},
          "execution_count": 415
        }
      ]
    },
    {
      "cell_type": "code",
      "source": [
        "df['z_score_'+ str(window)][600:].plot(alpha=.75)\n",
        "\n",
        "plt.axhline(0.0, color='grey', linestyle= '-', alpha=.6)\n",
        "plt.axhline(2.0, color='r', linestyle= '--', alpha=.4)\n",
        "plt.axhline(-2.0, color='g', linestyle= '--', alpha=.5)"
      ],
      "metadata": {
        "colab": {
          "base_uri": "https://localhost:8080/",
          "height": 294
        },
        "id": "d2_4bBSn6jKw",
        "outputId": "e2ca7dac-dcf4-4814-9b9e-d568e1ef136d"
      },
      "execution_count": 416,
      "outputs": [
        {
          "output_type": "execute_result",
          "data": {
            "text/plain": [
              "<matplotlib.lines.Line2D at 0x7fc4b6d5cf50>"
            ]
          },
          "metadata": {},
          "execution_count": 416
        },
        {
          "output_type": "display_data",
          "data": {
            "image/png": "[encoded data removed]",
            "text/plain": [
              "<Figure size 432x288 with 1 Axes>"
            ]
          },
          "metadata": {
            "needs_background": "light"
          }
        }
      ]
    },
    {
      "cell_type": "code",
      "source": [
        ""
      ],
      "metadata": {
        "id": "30hwYz_Pflyv"
      },
      "execution_count": 416,
      "outputs": []
    },
    {
      "cell_type": "markdown",
      "source": [
        "# TPAR (backtesting...)\n"
      ],
      "metadata": {
        "id": "DSvEDfJEjtf5"
      }
    },
    {
      "cell_type": "markdown",
      "source": [
        "Trigger Principal Action Result"
      ],
      "metadata": {
        "id": "QAfwau1jjy7P"
      }
    },
    {
      "cell_type": "code",
      "source": [
        "lag = 1\n",
        "\n",
        "actions = {'S':-1, 'B': 1, 'C':'C', 'N': 0, np.nan:0}\n",
        "\n",
        "positions = {'X1':0, 'X2':0}\n",
        "\n",
        "limit_X1 = 100.0\n",
        "\n",
        "volume_factor = 1.0\n"
      ],
      "metadata": {
        "id": "y_F2K1idmWF5"
      },
      "execution_count": 417,
      "outputs": []
    },
    {
      "cell_type": "code",
      "source": [
        "def trigger(zscore, threshold=2.0):\n",
        "  # event = 0\n",
        "  if zscore > threshold:\n",
        "    event = 'S'\n",
        "  elif zscore < (threshold * -1):\n",
        "    event = 'B'\n",
        "  elif abs(zscore) <= (.3):\n",
        "    event = 'C'  # close\n",
        "  else:\n",
        "    event = 'N'  # no event\n",
        "  return event"
      ],
      "metadata": {
        "id": "2lQxwJFrjyhu"
      },
      "execution_count": 418,
      "outputs": []
    },
    {
      "cell_type": "code",
      "source": [
        "def weighted_trades(direction, trade, spread):\n",
        "  '''\n",
        "  1 for buys, -1 for sells\n",
        "  '''\n",
        "  dir_sign = np.sign(direction) * 1\n",
        "  trade_sign = np.sign(trade) * 1\n",
        "  \n",
        "\n",
        "  if dir_sign == trade_sign:\n",
        "    event = abs(trade) * spread\n",
        "    volume = abs(trade)\n",
        "  else:\n",
        "    event = 0\n",
        "    volume = 0\n",
        "\n",
        "  return event, volume\n"
      ],
      "metadata": {
        "id": "8oi120A_sLVd"
      },
      "execution_count": 419,
      "outputs": []
    },
    {
      "cell_type": "code",
      "source": [
        "def action(trigger, X1='X1'):\n",
        "  trade = [actions[trigger]]\n",
        "  return trade\n",
        "\n",
        "\n"
      ],
      "metadata": {
        "id": "jrYp2sYvmw6v"
      },
      "execution_count": 420,
      "outputs": []
    },
    {
      "cell_type": "code",
      "source": [
        "df['trigger'] = df.apply(lambda x:  trigger(x['z_score_'+ str(window)] ), axis = 1)\n",
        "df['trigger_lag'] = df['trigger'].shift(lag)\n"
      ],
      "metadata": {
        "id": "QADMezkKyfA4"
      },
      "execution_count": 421,
      "outputs": []
    },
    {
      "cell_type": "code",
      "source": [
        "# for i in range(len(df)):\n",
        "#   print(i)\n",
        "#   print(df.iloc[i]['track'], df.iloc[i]['season'])\n",
        "#   SEM(df.iloc[i]['rider'], df.iloc[i]['rider_ahead'], df.iloc[i]['rider_behind'], riders, riders)"
      ],
      "metadata": {
        "id": "iVjcWVloynSl"
      },
      "execution_count": 422,
      "outputs": []
    },
    {
      "cell_type": "markdown",
      "source": [
        "### Walk Thru Loop"
      ],
      "metadata": {
        "id": "pkBOwPrhAp6s"
      }
    },
    {
      "cell_type": "code",
      "source": [
        "\n",
        "#FOR EACH ROW:\n",
        "# Check Dictionary, positions\n",
        "# Check Stop / Close conditions\n",
        "# ACTION X1, from trigger_lag\n",
        "# derive ACTION X2 from X1\n",
        "# Update Dictionary, positions\n",
        "\n",
        "\n",
        "\n",
        "\n",
        "trades_X1 = []\n",
        "spread_pos = []\n",
        "\n",
        "for i in range(len(df)):\n",
        "  curr_position = positions['X1']\n",
        "  \n",
        "  if df.iloc[i]['trigger_lag'] == 'C':\n",
        "    trade = trade =  curr_position * -1\n",
        "  \n",
        "  elif abs(curr_position) >= limit_X1:\n",
        "    trade = 0\n",
        "  \n",
        "  else:\n",
        "    trade = actions[df.iloc[i]['trigger_lag']] * volume_factor\n",
        "  \n",
        "  # Update List\n",
        "  trades_X1.append(trade)\n",
        "  \n",
        "  # Update Dictionary\n",
        "  positions['X1'] = trade + positions['X1']\n",
        "  spread_pos.append(positions['X1'])\n",
        "\n",
        "  \n"
      ],
      "metadata": {
        "id": "h8QwqBHQzIz_"
      },
      "execution_count": 423,
      "outputs": []
    },
    {
      "cell_type": "code",
      "source": [
        "df['curr_pos'] = spread_pos"
      ],
      "metadata": {
        "id": "MKZS96sl_P6W"
      },
      "execution_count": 424,
      "outputs": []
    },
    {
      "cell_type": "code",
      "source": [
        "\n",
        "df['trade_X1'] = trades_X1\n",
        "df['trade_X2'] = (df['trade_X1'] * -1) * df['ratio']"
      ],
      "metadata": {
        "id": "PQVfJlav0uJQ"
      },
      "execution_count": 425,
      "outputs": []
    },
    {
      "cell_type": "code",
      "source": [
        "df['spread_wt_buys_volume'] = df.apply(lambda x:  weighted_trades(1, x['trade_X1'],x['spread'])[1], axis = 1)\n",
        "df['spread_wt_buys'] = df.apply(lambda x:  weighted_trades(1, x['trade_X1'],x['spread'])[0], axis = 1)\n",
        "\n",
        "df['spread_wt_sells_volume'] = df.apply(lambda x:  weighted_trades(-1, x['trade_X1'],x['spread'])[1], axis = 1)\n",
        "df['spread_wt_sells'] = df.apply(lambda x:  weighted_trades(-1, x['trade_X1'],x['spread'])[0], axis = 1)"
      ],
      "metadata": {
        "id": "1cIH_RC35rzt"
      },
      "execution_count": 426,
      "outputs": []
    },
    {
      "cell_type": "code",
      "source": [
        "x1_total_volume = (df['spread_wt_buys_volume'].sum())\n",
        "\n",
        "print(df['spread_wt_buys_volume'].sum())\n",
        "print(df['spread_wt_sells_volume'].sum())"
      ],
      "metadata": {
        "colab": {
          "base_uri": "https://localhost:8080/"
        },
        "id": "gtBNsAzekHPR",
        "outputId": "0f861abe-1105-44fd-ac60-9ebc11d762c5"
      },
      "execution_count": 427,
      "outputs": [
        {
          "output_type": "stream",
          "name": "stdout",
          "text": [
            "87.0\n",
            "81.0\n"
          ]
        }
      ]
    },
    {
      "cell_type": "code",
      "source": [
        "buys = (df['spread_wt_buys'].sum()) / (df['spread_wt_buys_volume'].sum())"
      ],
      "metadata": {
        "id": "CPCXjpiufmBm"
      },
      "execution_count": 428,
      "outputs": []
    },
    {
      "cell_type": "code",
      "source": [
        "sells = (df['spread_wt_sells'].sum()) / (df['spread_wt_sells_volume'].sum())"
      ],
      "metadata": {
        "id": "qjRH-uBAfmEe"
      },
      "execution_count": 429,
      "outputs": []
    },
    {
      "cell_type": "code",
      "source": [
        "print(df['curr_pos'].min())\n",
        "print(df['curr_pos'].max())"
      ],
      "metadata": {
        "colab": {
          "base_uri": "https://localhost:8080/"
        },
        "id": "w2hG27jQ-de-",
        "outputId": "1b46dda3-e6e3-4aac-d68e-3b607ef94e44"
      },
      "execution_count": 430,
      "outputs": [
        {
          "output_type": "stream",
          "name": "stdout",
          "text": [
            "-16.0\n",
            "7.0\n"
          ]
        }
      ]
    },
    {
      "cell_type": "markdown",
      "source": [
        "### Profit"
      ],
      "metadata": {
        "id": "w98grhACBxRd"
      }
    },
    {
      "cell_type": "code",
      "source": [
        "round(sells - buys,2)"
      ],
      "metadata": {
        "colab": {
          "base_uri": "https://localhost:8080/"
        },
        "id": "yqYZEy8ZBpJk",
        "outputId": "e4d8125a-a46d-4cf7-92c2-3ec44146d587"
      },
      "execution_count": 431,
      "outputs": [
        {
          "output_type": "execute_result",
          "data": {
            "text/plain": [
              "-7.85"
            ]
          },
          "metadata": {},
          "execution_count": 431
        }
      ]
    },
    {
      "cell_type": "code",
      "source": [
        "profit = round(sells - buys,2) * x1_total_volume\n",
        "profit"
      ],
      "metadata": {
        "colab": {
          "base_uri": "https://localhost:8080/"
        },
        "id": "zp8fmUaXDUAU",
        "outputId": "f0ad96d9-b67b-4ae1-8983-54e93c5b46b6"
      },
      "execution_count": 432,
      "outputs": [
        {
          "output_type": "execute_result",
          "data": {
            "text/plain": [
              "-682.9499999999999"
            ]
          },
          "metadata": {},
          "execution_count": 432
        }
      ]
    },
    {
      "cell_type": "code",
      "source": [
        "fees = x1_total_volume = (df['spread_wt_buys_volume'].sum()) * 2 * 1.25\n",
        "fees"
      ],
      "metadata": {
        "colab": {
          "base_uri": "https://localhost:8080/"
        },
        "id": "s8pjgGtT97i-",
        "outputId": "ddf82795-4d46-41e2-d86e-76f768c2c914"
      },
      "execution_count": 433,
      "outputs": [
        {
          "output_type": "execute_result",
          "data": {
            "text/plain": [
              "217.5"
            ]
          },
          "metadata": {},
          "execution_count": 433
        }
      ]
    },
    {
      "cell_type": "code",
      "source": [
        "# Profit - Fees\n",
        "\n",
        "profit - fees"
      ],
      "metadata": {
        "colab": {
          "base_uri": "https://localhost:8080/"
        },
        "id": "8lw1mRvU-Hql",
        "outputId": "8e1501a1-ac06-4ef8-a78b-54a12b2dde09"
      },
      "execution_count": 434,
      "outputs": [
        {
          "output_type": "execute_result",
          "data": {
            "text/plain": [
              "-900.4499999999999"
            ]
          },
          "metadata": {},
          "execution_count": 434
        }
      ]
    },
    {
      "cell_type": "code",
      "source": [
        "# MARGIN ? \n",
        "\n",
        "(80.00 * limit_X1) "
      ],
      "metadata": {
        "colab": {
          "base_uri": "https://localhost:8080/"
        },
        "id": "1STf8UqjEutk",
        "outputId": "bffc3a1a-0c66-4339-ed7c-cfdf2c80897a"
      },
      "execution_count": 435,
      "outputs": [
        {
          "output_type": "execute_result",
          "data": {
            "text/plain": [
              "8000.0"
            ]
          },
          "metadata": {},
          "execution_count": 435
        }
      ]
    },
    {
      "cell_type": "code",
      "source": [
        "# ROM\n",
        "\n",
        "\n",
        "round(sells - buys,2) * x1_total_volume / (80.00 * limit_X1)\n"
      ],
      "metadata": {
        "colab": {
          "base_uri": "https://localhost:8080/"
        },
        "id": "yr6J353WDYNd",
        "outputId": "f07c66c8-3129-4c7c-b9a2-00c4c0c0ccdf"
      },
      "execution_count": 436,
      "outputs": [
        {
          "output_type": "execute_result",
          "data": {
            "text/plain": [
              "-0.213421875"
            ]
          },
          "metadata": {},
          "execution_count": 436
        }
      ]
    },
    {
      "cell_type": "code",
      "source": [
        "find = 600\n",
        "\n",
        "df[find:find + 50]\n",
        "\n",
        "df.tail(10)"
      ],
      "metadata": {
        "id": "w8twgSvxfmHP",
        "colab": {
          "base_uri": "https://localhost:8080/",
          "height": 612
        },
        "outputId": "06055cd7-0fb1-4e11-87d3-38359d50c565"
      },
      "execution_count": 437,
      "outputs": [
        {
          "output_type": "execute_result",
          "data": {
            "text/html": [
              "\n",
              "  <div id=\"df-4cbe6e48-87d4-4433-8079-674097e98981\">\n",
              "    <div class=\"colab-df-container\">\n",
              "      <div>\n",
              "<style scoped>\n",
              "    .dataframe tbody tr th:only-of-type {\n",
              "        vertical-align: middle;\n",
              "    }\n",
              "\n",
              "    .dataframe tbody tr th {\n",
              "        vertical-align: top;\n",
              "    }\n",
              "\n",
              "    .dataframe thead th {\n",
              "        text-align: right;\n",
              "    }\n",
              "</style>\n",
              "<table border=\"1\" class=\"dataframe\">\n",
              "  <thead>\n",
              "    <tr style=\"text-align: right;\">\n",
              "      <th></th>\n",
              "      <th>AMD</th>\n",
              "      <th>INTC</th>\n",
              "      <th>spread</th>\n",
              "      <th>ratio</th>\n",
              "      <th>mean_30</th>\n",
              "      <th>std_30</th>\n",
              "      <th>z_score_30</th>\n",
              "      <th>trigger</th>\n",
              "      <th>trigger_lag</th>\n",
              "      <th>curr_pos</th>\n",
              "      <th>trade_X1</th>\n",
              "      <th>trade_X2</th>\n",
              "      <th>spread_wt_buys_volume</th>\n",
              "      <th>spread_wt_buys</th>\n",
              "      <th>spread_wt_sells_volume</th>\n",
              "      <th>spread_wt_sells</th>\n",
              "    </tr>\n",
              "    <tr>\n",
              "      <th>Date</th>\n",
              "      <th></th>\n",
              "      <th></th>\n",
              "      <th></th>\n",
              "      <th></th>\n",
              "      <th></th>\n",
              "      <th></th>\n",
              "      <th></th>\n",
              "      <th></th>\n",
              "      <th></th>\n",
              "      <th></th>\n",
              "      <th></th>\n",
              "      <th></th>\n",
              "      <th></th>\n",
              "      <th></th>\n",
              "      <th></th>\n",
              "      <th></th>\n",
              "    </tr>\n",
              "  </thead>\n",
              "  <tbody>\n",
              "    <tr>\n",
              "      <th>2022-01-14</th>\n",
              "      <td>136.880005</td>\n",
              "      <td>55.700001</td>\n",
              "      <td>64.470004</td>\n",
              "      <td>1.0</td>\n",
              "      <td>73.305934</td>\n",
              "      <td>7.189204</td>\n",
              "      <td>-1.229055</td>\n",
              "      <td>N</td>\n",
              "      <td>N</td>\n",
              "      <td>0.0</td>\n",
              "      <td>0.0</td>\n",
              "      <td>-0.0</td>\n",
              "      <td>0.0</td>\n",
              "      <td>0.000000</td>\n",
              "      <td>0.0</td>\n",
              "      <td>0.0</td>\n",
              "    </tr>\n",
              "    <tr>\n",
              "      <th>2022-01-18</th>\n",
              "      <td>131.929993</td>\n",
              "      <td>54.759998</td>\n",
              "      <td>60.741995</td>\n",
              "      <td>1.0</td>\n",
              "      <td>72.664500</td>\n",
              "      <td>7.427244</td>\n",
              "      <td>-1.605240</td>\n",
              "      <td>N</td>\n",
              "      <td>N</td>\n",
              "      <td>0.0</td>\n",
              "      <td>0.0</td>\n",
              "      <td>-0.0</td>\n",
              "      <td>0.0</td>\n",
              "      <td>0.000000</td>\n",
              "      <td>0.0</td>\n",
              "      <td>0.0</td>\n",
              "    </tr>\n",
              "    <tr>\n",
              "      <th>2022-01-19</th>\n",
              "      <td>128.270004</td>\n",
              "      <td>53.619999</td>\n",
              "      <td>58.564006</td>\n",
              "      <td>1.0</td>\n",
              "      <td>72.190867</td>\n",
              "      <td>7.860501</td>\n",
              "      <td>-1.733587</td>\n",
              "      <td>N</td>\n",
              "      <td>N</td>\n",
              "      <td>0.0</td>\n",
              "      <td>0.0</td>\n",
              "      <td>-0.0</td>\n",
              "      <td>0.0</td>\n",
              "      <td>0.000000</td>\n",
              "      <td>0.0</td>\n",
              "      <td>0.0</td>\n",
              "    </tr>\n",
              "    <tr>\n",
              "      <th>2022-01-20</th>\n",
              "      <td>121.889999</td>\n",
              "      <td>52.040001</td>\n",
              "      <td>54.237998</td>\n",
              "      <td>1.0</td>\n",
              "      <td>71.448500</td>\n",
              "      <td>8.466898</td>\n",
              "      <td>-2.032681</td>\n",
              "      <td>B</td>\n",
              "      <td>N</td>\n",
              "      <td>0.0</td>\n",
              "      <td>0.0</td>\n",
              "      <td>-0.0</td>\n",
              "      <td>0.0</td>\n",
              "      <td>0.000000</td>\n",
              "      <td>0.0</td>\n",
              "      <td>0.0</td>\n",
              "    </tr>\n",
              "    <tr>\n",
              "      <th>2022-01-21</th>\n",
              "      <td>118.809998</td>\n",
              "      <td>52.040001</td>\n",
              "      <td>51.157996</td>\n",
              "      <td>1.0</td>\n",
              "      <td>70.554933</td>\n",
              "      <td>9.143018</td>\n",
              "      <td>-2.121503</td>\n",
              "      <td>B</td>\n",
              "      <td>B</td>\n",
              "      <td>1.0</td>\n",
              "      <td>1.0</td>\n",
              "      <td>-1.0</td>\n",
              "      <td>1.0</td>\n",
              "      <td>51.157996</td>\n",
              "      <td>0.0</td>\n",
              "      <td>0.0</td>\n",
              "    </tr>\n",
              "    <tr>\n",
              "      <th>2022-01-24</th>\n",
              "      <td>116.529999</td>\n",
              "      <td>51.939999</td>\n",
              "      <td>49.008001</td>\n",
              "      <td>1.0</td>\n",
              "      <td>69.772667</td>\n",
              "      <td>9.942022</td>\n",
              "      <td>-2.088576</td>\n",
              "      <td>B</td>\n",
              "      <td>B</td>\n",
              "      <td>2.0</td>\n",
              "      <td>1.0</td>\n",
              "      <td>-1.0</td>\n",
              "      <td>1.0</td>\n",
              "      <td>49.008001</td>\n",
              "      <td>0.0</td>\n",
              "      <td>0.0</td>\n",
              "    </tr>\n",
              "    <tr>\n",
              "      <th>2022-01-25</th>\n",
              "      <td>111.129997</td>\n",
              "      <td>51.000000</td>\n",
              "      <td>44.829997</td>\n",
              "      <td>1.0</td>\n",
              "      <td>68.840900</td>\n",
              "      <td>10.912661</td>\n",
              "      <td>-2.200279</td>\n",
              "      <td>B</td>\n",
              "      <td>B</td>\n",
              "      <td>3.0</td>\n",
              "      <td>1.0</td>\n",
              "      <td>-1.0</td>\n",
              "      <td>1.0</td>\n",
              "      <td>44.829997</td>\n",
              "      <td>0.0</td>\n",
              "      <td>0.0</td>\n",
              "    </tr>\n",
              "    <tr>\n",
              "      <th>2022-01-26</th>\n",
              "      <td>110.709999</td>\n",
              "      <td>51.689999</td>\n",
              "      <td>43.513001</td>\n",
              "      <td>1.0</td>\n",
              "      <td>67.998000</td>\n",
              "      <td>11.852085</td>\n",
              "      <td>-2.065881</td>\n",
              "      <td>B</td>\n",
              "      <td>B</td>\n",
              "      <td>4.0</td>\n",
              "      <td>1.0</td>\n",
              "      <td>-1.0</td>\n",
              "      <td>1.0</td>\n",
              "      <td>43.513001</td>\n",
              "      <td>0.0</td>\n",
              "      <td>0.0</td>\n",
              "    </tr>\n",
              "    <tr>\n",
              "      <th>2022-01-27</th>\n",
              "      <td>102.599998</td>\n",
              "      <td>48.049999</td>\n",
              "      <td>40.134999</td>\n",
              "      <td>1.0</td>\n",
              "      <td>66.969500</td>\n",
              "      <td>12.877869</td>\n",
              "      <td>-2.083769</td>\n",
              "      <td>B</td>\n",
              "      <td>B</td>\n",
              "      <td>5.0</td>\n",
              "      <td>1.0</td>\n",
              "      <td>-1.0</td>\n",
              "      <td>1.0</td>\n",
              "      <td>40.134999</td>\n",
              "      <td>0.0</td>\n",
              "      <td>0.0</td>\n",
              "    </tr>\n",
              "    <tr>\n",
              "      <th>2022-01-28</th>\n",
              "      <td>105.239998</td>\n",
              "      <td>47.730000</td>\n",
              "      <td>43.190998</td>\n",
              "      <td>1.0</td>\n",
              "      <td>65.721566</td>\n",
              "      <td>13.315095</td>\n",
              "      <td>-1.692107</td>\n",
              "      <td>N</td>\n",
              "      <td>B</td>\n",
              "      <td>6.0</td>\n",
              "      <td>1.0</td>\n",
              "      <td>-1.0</td>\n",
              "      <td>1.0</td>\n",
              "      <td>43.190998</td>\n",
              "      <td>0.0</td>\n",
              "      <td>0.0</td>\n",
              "    </tr>\n",
              "  </tbody>\n",
              "</table>\n",
              "</div>\n",
              "      <button class=\"colab-df-convert\" onclick=\"convertToInteractive('df-4cbe6e48-87d4-4433-8079-674097e98981')\"\n",
              "              title=\"Convert this dataframe to an interactive table.\"\n",
              "              style=\"display:none;\">\n",
              "        \n",
              "  <svg xmlns=\"http://www.w3.org/2000/svg\" height=\"24px\"viewBox=\"0 0 24 24\"\n",
              "       width=\"24px\">\n",
              "    <path d=\"M0 0h24v24H0V0z\" fill=\"none\"/>\n",
              "    <path d=\"M18.56 5.44l.94 2.06.94-2.06 2.06-.94-2.06-.94-.94-2.06-.94 2.06-2.06.94zm-11 1L8.5 8.5l.94-2.06 2.06-.94-2.06-.94L8.5 2.5l-.94 2.06-2.06.94zm10 10l.94 2.06.94-2.06 2.06-.94-2.06-.94-.94-2.06-.94 2.06-2.06.94z\"/><path d=\"M17.41 7.96l-1.37-1.37c-.4-.4-.92-.59-1.43-.59-.52 0-1.04.2-1.43.59L10.3 9.45l-7.72 7.72c-.78.78-.78 2.05 0 2.83L4 21.41c.39.39.9.59 1.41.59.51 0 1.02-.2 1.41-.59l7.78-7.78 2.81-2.81c.8-.78.8-2.07 0-2.86zM5.41 20L4 18.59l7.72-7.72 1.47 1.35L5.41 20z\"/>\n",
              "  </svg>\n",
              "      </button>\n",
              "      \n",
              "  <style>\n",
              "    .colab-df-container {\n",
              "      display:flex;\n",
              "      flex-wrap:wrap;\n",
              "      gap: 12px;\n",
              "    }\n",
              "\n",
              "    .colab-df-convert {\n",
              "      background-color: #E8F0FE;\n",
              "      border: none;\n",
              "      border-radius: 50%;\n",
              "      cursor: pointer;\n",
              "      display: none;\n",
              "      fill: #1967D2;\n",
              "      height: 32px;\n",
              "      padding: 0 0 0 0;\n",
              "      width: 32px;\n",
              "    }\n",
              "\n",
              "    .colab-df-convert:hover {\n",
              "      background-color: #E2EBFA;\n",
              "      box-shadow: 0px 1px 2px rgba(60, 64, 67, 0.3), 0px 1px 3px 1px rgba(60, 64, 67, 0.15);\n",
              "      fill: #174EA6;\n",
              "    }\n",
              "\n",
              "    [theme=dark] .colab-df-convert {\n",
              "      background-color: #3B4455;\n",
              "      fill: #D2E3FC;\n",
              "    }\n",
              "\n",
              "    [theme=dark] .colab-df-convert:hover {\n",
              "      background-color: #434B5C;\n",
              "      box-shadow: 0px 1px 3px 1px rgba(0, 0, 0, 0.15);\n",
              "      filter: drop-shadow(0px 1px 2px rgba(0, 0, 0, 0.3));\n",
              "      fill: #FFFFFF;\n",
              "    }\n",
              "  </style>\n",
              "\n",
              "      <script>\n",
              "        const buttonEl =\n",
              "          document.querySelector('#df-4cbe6e48-87d4-4433-8079-674097e98981 button.colab-df-convert');\n",
              "        buttonEl.style.display =\n",
              "          google.colab.kernel.accessAllowed ? 'block' : 'none';\n",
              "\n",
              "        async function convertToInteractive(key) {\n",
              "          const element = document.querySelector('#df-4cbe6e48-87d4-4433-8079-674097e98981');\n",
              "          const dataTable =\n",
              "            await google.colab.kernel.invokeFunction('convertToInteractive',\n",
              "                                                     [key], {});\n",
              "          if (!dataTable) return;\n",
              "\n",
              "          const docLinkHtml = 'Like what you see? Visit the ' +\n",
              "            '<a target=\"_blank\" href=https://colab.research.google.com/notebooks/data_table.ipynb>data table notebook</a>'\n",
              "            + ' to learn more about interactive tables.';\n",
              "          element.innerHTML = '';\n",
              "          dataTable['output_type'] = 'display_data';\n",
              "          await google.colab.output.renderOutput(dataTable, element);\n",
              "          const docLink = document.createElement('div');\n",
              "          docLink.innerHTML = docLinkHtml;\n",
              "          element.appendChild(docLink);\n",
              "        }\n",
              "      </script>\n",
              "    </div>\n",
              "  </div>\n",
              "  "
            ],
            "text/plain": [
              "                   AMD       INTC  ...  spread_wt_sells_volume  spread_wt_sells\n",
              "Date                               ...                                         \n",
              "2022-01-14  136.880005  55.700001  ...                     0.0              0.0\n",
              "2022-01-18  131.929993  54.759998  ...                     0.0              0.0\n",
              "2022-01-19  128.270004  53.619999  ...                     0.0              0.0\n",
              "2022-01-20  121.889999  52.040001  ...                     0.0              0.0\n",
              "2022-01-21  118.809998  52.040001  ...                     0.0              0.0\n",
              "2022-01-24  116.529999  51.939999  ...                     0.0              0.0\n",
              "2022-01-25  111.129997  51.000000  ...                     0.0              0.0\n",
              "2022-01-26  110.709999  51.689999  ...                     0.0              0.0\n",
              "2022-01-27  102.599998  48.049999  ...                     0.0              0.0\n",
              "2022-01-28  105.239998  47.730000  ...                     0.0              0.0\n",
              "\n",
              "[10 rows x 16 columns]"
            ]
          },
          "metadata": {},
          "execution_count": 437
        }
      ]
    },
    {
      "cell_type": "code",
      "source": [
        ""
      ],
      "metadata": {
        "id": "8RNP-fymfmKA"
      },
      "execution_count": 437,
      "outputs": []
    },
    {
      "cell_type": "code",
      "source": [
        "'''\n",
        "For 100 lots of BDX on this spread the total margin is $7.5k.\n",
        "\n",
        "\n",
        "\n",
        "\n",
        "'''"
      ],
      "metadata": {
        "colab": {
          "base_uri": "https://localhost:8080/",
          "height": 35
        },
        "id": "2QGPjnQl7tuY",
        "outputId": "3550ac8d-1104-4ac3-fab3-990d78c89c1a"
      },
      "execution_count": 438,
      "outputs": [
        {
          "output_type": "execute_result",
          "data": {
            "application/vnd.google.colaboratory.intrinsic+json": {
              "type": "string"
            },
            "text/plain": [
              "'\\nFor 100 lots of BDX on this spread the total margin is $7.5k.\\n\\n\\n\\n\\n'"
            ]
          },
          "metadata": {},
          "execution_count": 438
        }
      ]
    },
    {
      "cell_type": "code",
      "source": [
        "# df['running_X1'] = \n",
        "# df['running_X2'] = \n",
        "\n",
        "# df['trigger'] = df.apply(lambda x:  trigger(x['z_score_'+ str(window)] ), axis = 1) \n",
        "# # df['action_X1'] = df['trigger'].apply(lambda x: actions[x] if actions[x] != 'C' else 0)\n",
        "# # df['action_X1'] = df['trigger'].apply(lambda x: actions[x])\n",
        "\n",
        "# df['action_X1'] = df.apply(lambda x:  action(x['trigger']), axis = 1)\n",
        "# df['action_X2'] = df['action_X1'] * ratio * -1"
      ],
      "metadata": {
        "id": "28q-XL68fl5Y"
      },
      "execution_count": 439,
      "outputs": []
    },
    {
      "cell_type": "code",
      "source": [
        "# df['logg'] = np.log(df['spread'] / df['spread'].shift(lag))\n",
        "# df['logg'].fillna(0.0, inplace=True)\n",
        "# df['logg_pos'] = df['logg'] * df['curr_pos']\n",
        "# df['myR'] = df['logg_pos'].cumsum().apply(np.exp)"
      ],
      "metadata": {
        "id": "T4AvzmpXwewG"
      },
      "execution_count": 440,
      "outputs": []
    },
    {
      "cell_type": "code",
      "source": [
        "df[df['trigger_lag']=='B']"
      ],
      "metadata": {
        "colab": {
          "base_uri": "https://localhost:8080/",
          "height": 1000
        },
        "id": "Q79F0VnU8Id2",
        "outputId": "d7890ec0-fd67-4839-8064-c919022a2239"
      },
      "execution_count": 441,
      "outputs": [
        {
          "output_type": "execute_result",
          "data": {
            "text/html": [
              "\n",
              "  <div id=\"df-94e5e29b-d6e9-4fb4-abc7-ecb8791ee9ad\">\n",
              "    <div class=\"colab-df-container\">\n",
              "      <div>\n",
              "<style scoped>\n",
              "    .dataframe tbody tr th:only-of-type {\n",
              "        vertical-align: middle;\n",
              "    }\n",
              "\n",
              "    .dataframe tbody tr th {\n",
              "        vertical-align: top;\n",
              "    }\n",
              "\n",
              "    .dataframe thead th {\n",
              "        text-align: right;\n",
              "    }\n",
              "</style>\n",
              "<table border=\"1\" class=\"dataframe\">\n",
              "  <thead>\n",
              "    <tr style=\"text-align: right;\">\n",
              "      <th></th>\n",
              "      <th>AMD</th>\n",
              "      <th>INTC</th>\n",
              "      <th>spread</th>\n",
              "      <th>ratio</th>\n",
              "      <th>mean_30</th>\n",
              "      <th>std_30</th>\n",
              "      <th>z_score_30</th>\n",
              "      <th>trigger</th>\n",
              "      <th>trigger_lag</th>\n",
              "      <th>curr_pos</th>\n",
              "      <th>trade_X1</th>\n",
              "      <th>trade_X2</th>\n",
              "      <th>spread_wt_buys_volume</th>\n",
              "      <th>spread_wt_buys</th>\n",
              "      <th>spread_wt_sells_volume</th>\n",
              "      <th>spread_wt_sells</th>\n",
              "    </tr>\n",
              "    <tr>\n",
              "      <th>Date</th>\n",
              "      <th></th>\n",
              "      <th></th>\n",
              "      <th></th>\n",
              "      <th></th>\n",
              "      <th></th>\n",
              "      <th></th>\n",
              "      <th></th>\n",
              "      <th></th>\n",
              "      <th></th>\n",
              "      <th></th>\n",
              "      <th></th>\n",
              "      <th></th>\n",
              "      <th></th>\n",
              "      <th></th>\n",
              "      <th></th>\n",
              "      <th></th>\n",
              "    </tr>\n",
              "  </thead>\n",
              "  <tbody>\n",
              "    <tr>\n",
              "      <th>2019-04-18</th>\n",
              "      <td>27.680000</td>\n",
              "      <td>54.618484</td>\n",
              "      <td>-43.324030</td>\n",
              "      <td>1.0</td>\n",
              "      <td>-40.329230</td>\n",
              "      <td>1.596839</td>\n",
              "      <td>-1.875455</td>\n",
              "      <td>N</td>\n",
              "      <td>B</td>\n",
              "      <td>1.0</td>\n",
              "      <td>1.0</td>\n",
              "      <td>-1.0</td>\n",
              "      <td>1.0</td>\n",
              "      <td>-43.324030</td>\n",
              "      <td>0.0</td>\n",
              "      <td>0.0</td>\n",
              "    </tr>\n",
              "    <tr>\n",
              "      <th>2019-07-25</th>\n",
              "      <td>33.669998</td>\n",
              "      <td>49.005768</td>\n",
              "      <td>-30.037500</td>\n",
              "      <td>1.0</td>\n",
              "      <td>-27.635877</td>\n",
              "      <td>1.413289</td>\n",
              "      <td>-1.699316</td>\n",
              "      <td>N</td>\n",
              "      <td>B</td>\n",
              "      <td>1.0</td>\n",
              "      <td>1.0</td>\n",
              "      <td>-1.0</td>\n",
              "      <td>1.0</td>\n",
              "      <td>-30.037500</td>\n",
              "      <td>0.0</td>\n",
              "      <td>0.0</td>\n",
              "    </tr>\n",
              "    <tr>\n",
              "      <th>2019-08-01</th>\n",
              "      <td>29.860001</td>\n",
              "      <td>46.506622</td>\n",
              "      <td>-30.598608</td>\n",
              "      <td>1.0</td>\n",
              "      <td>-28.221438</td>\n",
              "      <td>1.621617</td>\n",
              "      <td>-1.465926</td>\n",
              "      <td>N</td>\n",
              "      <td>B</td>\n",
              "      <td>2.0</td>\n",
              "      <td>1.0</td>\n",
              "      <td>-1.0</td>\n",
              "      <td>1.0</td>\n",
              "      <td>-30.598608</td>\n",
              "      <td>0.0</td>\n",
              "      <td>0.0</td>\n",
              "    </tr>\n",
              "    <tr>\n",
              "      <th>2019-09-10</th>\n",
              "      <td>30.230000</td>\n",
              "      <td>49.015045</td>\n",
              "      <td>-33.489559</td>\n",
              "      <td>1.0</td>\n",
              "      <td>-27.594507</td>\n",
              "      <td>2.744955</td>\n",
              "      <td>-2.147595</td>\n",
              "      <td>B</td>\n",
              "      <td>B</td>\n",
              "      <td>1.0</td>\n",
              "      <td>1.0</td>\n",
              "      <td>-1.0</td>\n",
              "      <td>1.0</td>\n",
              "      <td>-33.489559</td>\n",
              "      <td>0.0</td>\n",
              "      <td>0.0</td>\n",
              "    </tr>\n",
              "    <tr>\n",
              "      <th>2019-09-11</th>\n",
              "      <td>29.760000</td>\n",
              "      <td>49.932549</td>\n",
              "      <td>-35.152313</td>\n",
              "      <td>1.0</td>\n",
              "      <td>-27.790395</td>\n",
              "      <td>3.060603</td>\n",
              "      <td>-2.405381</td>\n",
              "      <td>B</td>\n",
              "      <td>B</td>\n",
              "      <td>2.0</td>\n",
              "      <td>1.0</td>\n",
              "      <td>-1.0</td>\n",
              "      <td>1.0</td>\n",
              "      <td>-35.152313</td>\n",
              "      <td>0.0</td>\n",
              "      <td>0.0</td>\n",
              "    </tr>\n",
              "    <tr>\n",
              "      <th>2019-09-12</th>\n",
              "      <td>30.209999</td>\n",
              "      <td>50.140636</td>\n",
              "      <td>-34.972828</td>\n",
              "      <td>1.0</td>\n",
              "      <td>-27.913121</td>\n",
              "      <td>3.272310</td>\n",
              "      <td>-2.157408</td>\n",
              "      <td>B</td>\n",
              "      <td>B</td>\n",
              "      <td>3.0</td>\n",
              "      <td>1.0</td>\n",
              "      <td>-1.0</td>\n",
              "      <td>1.0</td>\n",
              "      <td>-34.972828</td>\n",
              "      <td>0.0</td>\n",
              "      <td>0.0</td>\n",
              "    </tr>\n",
              "    <tr>\n",
              "      <th>2019-09-13</th>\n",
              "      <td>30.690001</td>\n",
              "      <td>49.696075</td>\n",
              "      <td>-33.914898</td>\n",
              "      <td>1.0</td>\n",
              "      <td>-28.023664</td>\n",
              "      <td>3.418889</td>\n",
              "      <td>-1.723143</td>\n",
              "      <td>N</td>\n",
              "      <td>B</td>\n",
              "      <td>4.0</td>\n",
              "      <td>1.0</td>\n",
              "      <td>-1.0</td>\n",
              "      <td>1.0</td>\n",
              "      <td>-33.914898</td>\n",
              "      <td>0.0</td>\n",
              "      <td>0.0</td>\n",
              "    </tr>\n",
              "    <tr>\n",
              "      <th>2019-10-28</th>\n",
              "      <td>33.689999</td>\n",
              "      <td>53.687645</td>\n",
              "      <td>-36.103940</td>\n",
              "      <td>1.0</td>\n",
              "      <td>-33.278063</td>\n",
              "      <td>1.123450</td>\n",
              "      <td>-2.515356</td>\n",
              "      <td>B</td>\n",
              "      <td>B</td>\n",
              "      <td>1.0</td>\n",
              "      <td>1.0</td>\n",
              "      <td>-1.0</td>\n",
              "      <td>1.0</td>\n",
              "      <td>-36.103940</td>\n",
              "      <td>0.0</td>\n",
              "      <td>0.0</td>\n",
              "    </tr>\n",
              "    <tr>\n",
              "      <th>2019-10-29</th>\n",
              "      <td>33.029999</td>\n",
              "      <td>53.290382</td>\n",
              "      <td>-36.247498</td>\n",
              "      <td>1.0</td>\n",
              "      <td>-33.389999</td>\n",
              "      <td>1.244196</td>\n",
              "      <td>-2.296664</td>\n",
              "      <td>B</td>\n",
              "      <td>B</td>\n",
              "      <td>2.0</td>\n",
              "      <td>1.0</td>\n",
              "      <td>-1.0</td>\n",
              "      <td>1.0</td>\n",
              "      <td>-36.247498</td>\n",
              "      <td>0.0</td>\n",
              "      <td>0.0</td>\n",
              "    </tr>\n",
              "    <tr>\n",
              "      <th>2019-10-30</th>\n",
              "      <td>33.130001</td>\n",
              "      <td>53.536304</td>\n",
              "      <td>-36.467195</td>\n",
              "      <td>1.0</td>\n",
              "      <td>-33.498866</td>\n",
              "      <td>1.364205</td>\n",
              "      <td>-2.175867</td>\n",
              "      <td>B</td>\n",
              "      <td>B</td>\n",
              "      <td>3.0</td>\n",
              "      <td>1.0</td>\n",
              "      <td>-1.0</td>\n",
              "      <td>1.0</td>\n",
              "      <td>-36.467195</td>\n",
              "      <td>0.0</td>\n",
              "      <td>0.0</td>\n",
              "    </tr>\n",
              "    <tr>\n",
              "      <th>2019-10-31</th>\n",
              "      <td>33.930000</td>\n",
              "      <td>53.470104</td>\n",
              "      <td>-35.581135</td>\n",
              "      <td>1.0</td>\n",
              "      <td>-33.580832</td>\n",
              "      <td>1.413762</td>\n",
              "      <td>-1.414880</td>\n",
              "      <td>N</td>\n",
              "      <td>B</td>\n",
              "      <td>4.0</td>\n",
              "      <td>1.0</td>\n",
              "      <td>-1.0</td>\n",
              "      <td>1.0</td>\n",
              "      <td>-35.581135</td>\n",
              "      <td>0.0</td>\n",
              "      <td>0.0</td>\n",
              "    </tr>\n",
              "    <tr>\n",
              "      <th>2020-01-27</th>\n",
              "      <td>49.259998</td>\n",
              "      <td>62.476250</td>\n",
              "      <td>-31.959126</td>\n",
              "      <td>1.0</td>\n",
              "      <td>-26.956002</td>\n",
              "      <td>2.544043</td>\n",
              "      <td>-1.966604</td>\n",
              "      <td>N</td>\n",
              "      <td>B</td>\n",
              "      <td>1.0</td>\n",
              "      <td>1.0</td>\n",
              "      <td>-1.0</td>\n",
              "      <td>1.0</td>\n",
              "      <td>-31.959126</td>\n",
              "      <td>0.0</td>\n",
              "      <td>0.0</td>\n",
              "    </tr>\n",
              "    <tr>\n",
              "      <th>2020-01-29</th>\n",
              "      <td>47.509998</td>\n",
              "      <td>63.084923</td>\n",
              "      <td>-34.500401</td>\n",
              "      <td>1.0</td>\n",
              "      <td>-27.233540</td>\n",
              "      <td>3.002420</td>\n",
              "      <td>-2.420335</td>\n",
              "      <td>B</td>\n",
              "      <td>B</td>\n",
              "      <td>2.0</td>\n",
              "      <td>1.0</td>\n",
              "      <td>-1.0</td>\n",
              "      <td>1.0</td>\n",
              "      <td>-34.500401</td>\n",
              "      <td>0.0</td>\n",
              "      <td>0.0</td>\n",
              "    </tr>\n",
              "    <tr>\n",
              "      <th>2020-01-30</th>\n",
              "      <td>48.779999</td>\n",
              "      <td>63.218090</td>\n",
              "      <td>-33.403518</td>\n",
              "      <td>1.0</td>\n",
              "      <td>-27.380648</td>\n",
              "      <td>3.193499</td>\n",
              "      <td>-1.885979</td>\n",
              "      <td>N</td>\n",
              "      <td>B</td>\n",
              "      <td>3.0</td>\n",
              "      <td>1.0</td>\n",
              "      <td>-1.0</td>\n",
              "      <td>1.0</td>\n",
              "      <td>-33.403518</td>\n",
              "      <td>0.0</td>\n",
              "      <td>0.0</td>\n",
              "    </tr>\n",
              "    <tr>\n",
              "      <th>2020-05-27</th>\n",
              "      <td>52.740002</td>\n",
              "      <td>61.091297</td>\n",
              "      <td>-26.678685</td>\n",
              "      <td>1.0</td>\n",
              "      <td>-20.181929</td>\n",
              "      <td>2.437440</td>\n",
              "      <td>-2.665401</td>\n",
              "      <td>B</td>\n",
              "      <td>B</td>\n",
              "      <td>1.0</td>\n",
              "      <td>1.0</td>\n",
              "      <td>-1.0</td>\n",
              "      <td>1.0</td>\n",
              "      <td>-26.678685</td>\n",
              "      <td>0.0</td>\n",
              "      <td>0.0</td>\n",
              "    </tr>\n",
              "    <tr>\n",
              "      <th>2020-05-28</th>\n",
              "      <td>51.740002</td>\n",
              "      <td>59.303543</td>\n",
              "      <td>-25.354604</td>\n",
              "      <td>1.0</td>\n",
              "      <td>-20.421905</td>\n",
              "      <td>2.581193</td>\n",
              "      <td>-1.911016</td>\n",
              "      <td>N</td>\n",
              "      <td>B</td>\n",
              "      <td>2.0</td>\n",
              "      <td>1.0</td>\n",
              "      <td>-1.0</td>\n",
              "      <td>1.0</td>\n",
              "      <td>-25.354604</td>\n",
              "      <td>0.0</td>\n",
              "      <td>0.0</td>\n",
              "    </tr>\n",
              "    <tr>\n",
              "      <th>2020-09-14</th>\n",
              "      <td>77.900002</td>\n",
              "      <td>47.813423</td>\n",
              "      <td>15.742551</td>\n",
              "      <td>1.0</td>\n",
              "      <td>21.068822</td>\n",
              "      <td>3.300951</td>\n",
              "      <td>-1.613557</td>\n",
              "      <td>N</td>\n",
              "      <td>B</td>\n",
              "      <td>1.0</td>\n",
              "      <td>1.0</td>\n",
              "      <td>-1.0</td>\n",
              "      <td>1.0</td>\n",
              "      <td>15.742551</td>\n",
              "      <td>0.0</td>\n",
              "      <td>0.0</td>\n",
              "    </tr>\n",
              "    <tr>\n",
              "      <th>2020-09-17</th>\n",
              "      <td>76.550003</td>\n",
              "      <td>48.694019</td>\n",
              "      <td>13.247778</td>\n",
              "      <td>1.0</td>\n",
              "      <td>20.316102</td>\n",
              "      <td>3.785383</td>\n",
              "      <td>-1.867268</td>\n",
              "      <td>N</td>\n",
              "      <td>B</td>\n",
              "      <td>2.0</td>\n",
              "      <td>1.0</td>\n",
              "      <td>-1.0</td>\n",
              "      <td>1.0</td>\n",
              "      <td>13.247778</td>\n",
              "      <td>0.0</td>\n",
              "      <td>0.0</td>\n",
              "    </tr>\n",
              "    <tr>\n",
              "      <th>2021-01-14</th>\n",
              "      <td>90.790001</td>\n",
              "      <td>57.752499</td>\n",
              "      <td>15.711753</td>\n",
              "      <td>1.0</td>\n",
              "      <td>29.420202</td>\n",
              "      <td>4.069932</td>\n",
              "      <td>-3.368225</td>\n",
              "      <td>B</td>\n",
              "      <td>B</td>\n",
              "      <td>1.0</td>\n",
              "      <td>1.0</td>\n",
              "      <td>-1.0</td>\n",
              "      <td>1.0</td>\n",
              "      <td>15.711753</td>\n",
              "      <td>0.0</td>\n",
              "      <td>0.0</td>\n",
              "    </tr>\n",
              "    <tr>\n",
              "      <th>2021-01-15</th>\n",
              "      <td>88.209999</td>\n",
              "      <td>56.124710</td>\n",
              "      <td>15.247876</td>\n",
              "      <td>1.0</td>\n",
              "      <td>28.911480</td>\n",
              "      <td>4.814741</td>\n",
              "      <td>-2.837869</td>\n",
              "      <td>B</td>\n",
              "      <td>B</td>\n",
              "      <td>2.0</td>\n",
              "      <td>1.0</td>\n",
              "      <td>-1.0</td>\n",
              "      <td>1.0</td>\n",
              "      <td>15.247876</td>\n",
              "      <td>0.0</td>\n",
              "      <td>0.0</td>\n",
              "    </tr>\n",
              "    <tr>\n",
              "      <th>2021-01-19</th>\n",
              "      <td>89.449997</td>\n",
              "      <td>56.524345</td>\n",
              "      <td>15.968348</td>\n",
              "      <td>1.0</td>\n",
              "      <td>28.520479</td>\n",
              "      <td>5.361860</td>\n",
              "      <td>-2.341003</td>\n",
              "      <td>B</td>\n",
              "      <td>B</td>\n",
              "      <td>3.0</td>\n",
              "      <td>1.0</td>\n",
              "      <td>-1.0</td>\n",
              "      <td>1.0</td>\n",
              "      <td>15.968348</td>\n",
              "      <td>0.0</td>\n",
              "      <td>0.0</td>\n",
              "    </tr>\n",
              "    <tr>\n",
              "      <th>2021-01-20</th>\n",
              "      <td>88.750000</td>\n",
              "      <td>57.187157</td>\n",
              "      <td>14.406696</td>\n",
              "      <td>1.0</td>\n",
              "      <td>28.061996</td>\n",
              "      <td>5.949501</td>\n",
              "      <td>-2.295201</td>\n",
              "      <td>B</td>\n",
              "      <td>B</td>\n",
              "      <td>4.0</td>\n",
              "      <td>1.0</td>\n",
              "      <td>-1.0</td>\n",
              "      <td>1.0</td>\n",
              "      <td>14.406696</td>\n",
              "      <td>0.0</td>\n",
              "      <td>0.0</td>\n",
              "    </tr>\n",
              "    <tr>\n",
              "      <th>2021-01-21</th>\n",
              "      <td>91.529999</td>\n",
              "      <td>60.881367</td>\n",
              "      <td>12.384222</td>\n",
              "      <td>1.0</td>\n",
              "      <td>27.459490</td>\n",
              "      <td>6.580156</td>\n",
              "      <td>-2.291020</td>\n",
              "      <td>B</td>\n",
              "      <td>B</td>\n",
              "      <td>5.0</td>\n",
              "      <td>1.0</td>\n",
              "      <td>-1.0</td>\n",
              "      <td>1.0</td>\n",
              "      <td>12.384222</td>\n",
              "      <td>0.0</td>\n",
              "      <td>0.0</td>\n",
              "    </tr>\n",
              "    <tr>\n",
              "      <th>2021-01-22</th>\n",
              "      <td>92.790001</td>\n",
              "      <td>55.227955</td>\n",
              "      <td>20.993660</td>\n",
              "      <td>1.0</td>\n",
              "      <td>27.202995</td>\n",
              "      <td>6.679815</td>\n",
              "      <td>-0.929567</td>\n",
              "      <td>N</td>\n",
              "      <td>B</td>\n",
              "      <td>6.0</td>\n",
              "      <td>1.0</td>\n",
              "      <td>-1.0</td>\n",
              "      <td>1.0</td>\n",
              "      <td>20.993660</td>\n",
              "      <td>0.0</td>\n",
              "      <td>0.0</td>\n",
              "    </tr>\n",
              "    <tr>\n",
              "      <th>2021-03-09</th>\n",
              "      <td>78.529999</td>\n",
              "      <td>61.456841</td>\n",
              "      <td>-1.363894</td>\n",
              "      <td>1.0</td>\n",
              "      <td>10.771930</td>\n",
              "      <td>6.440644</td>\n",
              "      <td>-1.884256</td>\n",
              "      <td>N</td>\n",
              "      <td>B</td>\n",
              "      <td>7.0</td>\n",
              "      <td>1.0</td>\n",
              "      <td>-1.0</td>\n",
              "      <td>1.0</td>\n",
              "      <td>-1.363894</td>\n",
              "      <td>0.0</td>\n",
              "      <td>0.0</td>\n",
              "    </tr>\n",
              "    <tr>\n",
              "      <th>2021-09-29</th>\n",
              "      <td>100.349998</td>\n",
              "      <td>53.120590</td>\n",
              "      <td>31.293231</td>\n",
              "      <td>1.0</td>\n",
              "      <td>36.989057</td>\n",
              "      <td>2.897643</td>\n",
              "      <td>-1.965675</td>\n",
              "      <td>N</td>\n",
              "      <td>B</td>\n",
              "      <td>1.0</td>\n",
              "      <td>1.0</td>\n",
              "      <td>-1.0</td>\n",
              "      <td>1.0</td>\n",
              "      <td>31.293231</td>\n",
              "      <td>0.0</td>\n",
              "      <td>0.0</td>\n",
              "    </tr>\n",
              "    <tr>\n",
              "      <th>2022-01-21</th>\n",
              "      <td>118.809998</td>\n",
              "      <td>52.040001</td>\n",
              "      <td>51.157996</td>\n",
              "      <td>1.0</td>\n",
              "      <td>70.554933</td>\n",
              "      <td>9.143018</td>\n",
              "      <td>-2.121503</td>\n",
              "      <td>B</td>\n",
              "      <td>B</td>\n",
              "      <td>1.0</td>\n",
              "      <td>1.0</td>\n",
              "      <td>-1.0</td>\n",
              "      <td>1.0</td>\n",
              "      <td>51.157996</td>\n",
              "      <td>0.0</td>\n",
              "      <td>0.0</td>\n",
              "    </tr>\n",
              "    <tr>\n",
              "      <th>2022-01-24</th>\n",
              "      <td>116.529999</td>\n",
              "      <td>51.939999</td>\n",
              "      <td>49.008001</td>\n",
              "      <td>1.0</td>\n",
              "      <td>69.772667</td>\n",
              "      <td>9.942022</td>\n",
              "      <td>-2.088576</td>\n",
              "      <td>B</td>\n",
              "      <td>B</td>\n",
              "      <td>2.0</td>\n",
              "      <td>1.0</td>\n",
              "      <td>-1.0</td>\n",
              "      <td>1.0</td>\n",
              "      <td>49.008001</td>\n",
              "      <td>0.0</td>\n",
              "      <td>0.0</td>\n",
              "    </tr>\n",
              "    <tr>\n",
              "      <th>2022-01-25</th>\n",
              "      <td>111.129997</td>\n",
              "      <td>51.000000</td>\n",
              "      <td>44.829997</td>\n",
              "      <td>1.0</td>\n",
              "      <td>68.840900</td>\n",
              "      <td>10.912661</td>\n",
              "      <td>-2.200279</td>\n",
              "      <td>B</td>\n",
              "      <td>B</td>\n",
              "      <td>3.0</td>\n",
              "      <td>1.0</td>\n",
              "      <td>-1.0</td>\n",
              "      <td>1.0</td>\n",
              "      <td>44.829997</td>\n",
              "      <td>0.0</td>\n",
              "      <td>0.0</td>\n",
              "    </tr>\n",
              "    <tr>\n",
              "      <th>2022-01-26</th>\n",
              "      <td>110.709999</td>\n",
              "      <td>51.689999</td>\n",
              "      <td>43.513001</td>\n",
              "      <td>1.0</td>\n",
              "      <td>67.998000</td>\n",
              "      <td>11.852085</td>\n",
              "      <td>-2.065881</td>\n",
              "      <td>B</td>\n",
              "      <td>B</td>\n",
              "      <td>4.0</td>\n",
              "      <td>1.0</td>\n",
              "      <td>-1.0</td>\n",
              "      <td>1.0</td>\n",
              "      <td>43.513001</td>\n",
              "      <td>0.0</td>\n",
              "      <td>0.0</td>\n",
              "    </tr>\n",
              "    <tr>\n",
              "      <th>2022-01-27</th>\n",
              "      <td>102.599998</td>\n",
              "      <td>48.049999</td>\n",
              "      <td>40.134999</td>\n",
              "      <td>1.0</td>\n",
              "      <td>66.969500</td>\n",
              "      <td>12.877869</td>\n",
              "      <td>-2.083769</td>\n",
              "      <td>B</td>\n",
              "      <td>B</td>\n",
              "      <td>5.0</td>\n",
              "      <td>1.0</td>\n",
              "      <td>-1.0</td>\n",
              "      <td>1.0</td>\n",
              "      <td>40.134999</td>\n",
              "      <td>0.0</td>\n",
              "      <td>0.0</td>\n",
              "    </tr>\n",
              "    <tr>\n",
              "      <th>2022-01-28</th>\n",
              "      <td>105.239998</td>\n",
              "      <td>47.730000</td>\n",
              "      <td>43.190998</td>\n",
              "      <td>1.0</td>\n",
              "      <td>65.721566</td>\n",
              "      <td>13.315095</td>\n",
              "      <td>-1.692107</td>\n",
              "      <td>N</td>\n",
              "      <td>B</td>\n",
              "      <td>6.0</td>\n",
              "      <td>1.0</td>\n",
              "      <td>-1.0</td>\n",
              "      <td>1.0</td>\n",
              "      <td>43.190998</td>\n",
              "      <td>0.0</td>\n",
              "      <td>0.0</td>\n",
              "    </tr>\n",
              "  </tbody>\n",
              "</table>\n",
              "</div>\n",
              "      <button class=\"colab-df-convert\" onclick=\"convertToInteractive('df-94e5e29b-d6e9-4fb4-abc7-ecb8791ee9ad')\"\n",
              "              title=\"Convert this dataframe to an interactive table.\"\n",
              "              style=\"display:none;\">\n",
              "        \n",
              "  <svg xmlns=\"http://www.w3.org/2000/svg\" height=\"24px\"viewBox=\"0 0 24 24\"\n",
              "       width=\"24px\">\n",
              "    <path d=\"M0 0h24v24H0V0z\" fill=\"none\"/>\n",
              "    <path d=\"M18.56 5.44l.94 2.06.94-2.06 2.06-.94-2.06-.94-.94-2.06-.94 2.06-2.06.94zm-11 1L8.5 8.5l.94-2.06 2.06-.94-2.06-.94L8.5 2.5l-.94 2.06-2.06.94zm10 10l.94 2.06.94-2.06 2.06-.94-2.06-.94-.94-2.06-.94 2.06-2.06.94z\"/><path d=\"M17.41 7.96l-1.37-1.37c-.4-.4-.92-.59-1.43-.59-.52 0-1.04.2-1.43.59L10.3 9.45l-7.72 7.72c-.78.78-.78 2.05 0 2.83L4 21.41c.39.39.9.59 1.41.59.51 0 1.02-.2 1.41-.59l7.78-7.78 2.81-2.81c.8-.78.8-2.07 0-2.86zM5.41 20L4 18.59l7.72-7.72 1.47 1.35L5.41 20z\"/>\n",
              "  </svg>\n",
              "      </button>\n",
              "      \n",
              "  <style>\n",
              "    .colab-df-container {\n",
              "      display:flex;\n",
              "      flex-wrap:wrap;\n",
              "      gap: 12px;\n",
              "    }\n",
              "\n",
              "    .colab-df-convert {\n",
              "      background-color: #E8F0FE;\n",
              "      border: none;\n",
              "      border-radius: 50%;\n",
              "      cursor: pointer;\n",
              "      display: none;\n",
              "      fill: #1967D2;\n",
              "      height: 32px;\n",
              "      padding: 0 0 0 0;\n",
              "      width: 32px;\n",
              "    }\n",
              "\n",
              "    .colab-df-convert:hover {\n",
              "      background-color: #E2EBFA;\n",
              "      box-shadow: 0px 1px 2px rgba(60, 64, 67, 0.3), 0px 1px 3px 1px rgba(60, 64, 67, 0.15);\n",
              "      fill: #174EA6;\n",
              "    }\n",
              "\n",
              "    [theme=dark] .colab-df-convert {\n",
              "      background-color: #3B4455;\n",
              "      fill: #D2E3FC;\n",
              "    }\n",
              "\n",
              "    [theme=dark] .colab-df-convert:hover {\n",
              "      background-color: #434B5C;\n",
              "      box-shadow: 0px 1px 3px 1px rgba(0, 0, 0, 0.15);\n",
              "      filter: drop-shadow(0px 1px 2px rgba(0, 0, 0, 0.3));\n",
              "      fill: #FFFFFF;\n",
              "    }\n",
              "  </style>\n",
              "\n",
              "      <script>\n",
              "        const buttonEl =\n",
              "          document.querySelector('#df-94e5e29b-d6e9-4fb4-abc7-ecb8791ee9ad button.colab-df-convert');\n",
              "        buttonEl.style.display =\n",
              "          google.colab.kernel.accessAllowed ? 'block' : 'none';\n",
              "\n",
              "        async function convertToInteractive(key) {\n",
              "          const element = document.querySelector('#df-94e5e29b-d6e9-4fb4-abc7-ecb8791ee9ad');\n",
              "          const dataTable =\n",
              "            await google.colab.kernel.invokeFunction('convertToInteractive',\n",
              "                                                     [key], {});\n",
              "          if (!dataTable) return;\n",
              "\n",
              "          const docLinkHtml = 'Like what you see? Visit the ' +\n",
              "            '<a target=\"_blank\" href=https://colab.research.google.com/notebooks/data_table.ipynb>data table notebook</a>'\n",
              "            + ' to learn more about interactive tables.';\n",
              "          element.innerHTML = '';\n",
              "          dataTable['output_type'] = 'display_data';\n",
              "          await google.colab.output.renderOutput(dataTable, element);\n",
              "          const docLink = document.createElement('div');\n",
              "          docLink.innerHTML = docLinkHtml;\n",
              "          element.appendChild(docLink);\n",
              "        }\n",
              "      </script>\n",
              "    </div>\n",
              "  </div>\n",
              "  "
            ],
            "text/plain": [
              "                   AMD       INTC  ...  spread_wt_sells_volume  spread_wt_sells\n",
              "Date                               ...                                         \n",
              "2019-04-18   27.680000  54.618484  ...                     0.0              0.0\n",
              "2019-07-25   33.669998  49.005768  ...                     0.0              0.0\n",
              "2019-08-01   29.860001  46.506622  ...                     0.0              0.0\n",
              "2019-09-10   30.230000  49.015045  ...                     0.0              0.0\n",
              "2019-09-11   29.760000  49.932549  ...                     0.0              0.0\n",
              "2019-09-12   30.209999  50.140636  ...                     0.0              0.0\n",
              "2019-09-13   30.690001  49.696075  ...                     0.0              0.0\n",
              "2019-10-28   33.689999  53.687645  ...                     0.0              0.0\n",
              "2019-10-29   33.029999  53.290382  ...                     0.0              0.0\n",
              "2019-10-30   33.130001  53.536304  ...                     0.0              0.0\n",
              "2019-10-31   33.930000  53.470104  ...                     0.0              0.0\n",
              "2020-01-27   49.259998  62.476250  ...                     0.0              0.0\n",
              "2020-01-29   47.509998  63.084923  ...                     0.0              0.0\n",
              "2020-01-30   48.779999  63.218090  ...                     0.0              0.0\n",
              "2020-05-27   52.740002  61.091297  ...                     0.0              0.0\n",
              "2020-05-28   51.740002  59.303543  ...                     0.0              0.0\n",
              "2020-09-14   77.900002  47.813423  ...                     0.0              0.0\n",
              "2020-09-17   76.550003  48.694019  ...                     0.0              0.0\n",
              "2021-01-14   90.790001  57.752499  ...                     0.0              0.0\n",
              "2021-01-15   88.209999  56.124710  ...                     0.0              0.0\n",
              "2021-01-19   89.449997  56.524345  ...                     0.0              0.0\n",
              "2021-01-20   88.750000  57.187157  ...                     0.0              0.0\n",
              "2021-01-21   91.529999  60.881367  ...                     0.0              0.0\n",
              "2021-01-22   92.790001  55.227955  ...                     0.0              0.0\n",
              "2021-03-09   78.529999  61.456841  ...                     0.0              0.0\n",
              "2021-09-29  100.349998  53.120590  ...                     0.0              0.0\n",
              "2022-01-21  118.809998  52.040001  ...                     0.0              0.0\n",
              "2022-01-24  116.529999  51.939999  ...                     0.0              0.0\n",
              "2022-01-25  111.129997  51.000000  ...                     0.0              0.0\n",
              "2022-01-26  110.709999  51.689999  ...                     0.0              0.0\n",
              "2022-01-27  102.599998  48.049999  ...                     0.0              0.0\n",
              "2022-01-28  105.239998  47.730000  ...                     0.0              0.0\n",
              "\n",
              "[32 rows x 16 columns]"
            ]
          },
          "metadata": {},
          "execution_count": 441
        }
      ]
    },
    {
      "cell_type": "code",
      "source": [
        ""
      ],
      "metadata": {
        "id": "CN6iDnNX8ImO"
      },
      "execution_count": 441,
      "outputs": []
    },
    {
      "cell_type": "code",
      "source": [
        ""
      ],
      "metadata": {
        "id": "Z_MOKx-E8Io3"
      },
      "execution_count": 441,
      "outputs": []
    }
  ]
}